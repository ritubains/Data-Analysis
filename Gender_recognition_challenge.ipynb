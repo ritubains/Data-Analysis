{
 "cells": [
  {
   "cell_type": "code",
   "execution_count": 8,
   "metadata": {},
   "outputs": [],
   "source": [
    "import pandas as pd\n",
    "import numpy as np\n",
    "import matplotlib.pyplot as plt\n",
    "%matplotlib inline\n",
    "import seaborn as sns\n",
    "import json"
   ]
  },
  {
   "cell_type": "code",
   "execution_count": 61,
   "metadata": {},
   "outputs": [],
   "source": [
    "df_1 = pd.read_csv(\"UserIdToGender_Train.csv\")"
   ]
  },
  {
   "cell_type": "code",
   "execution_count": 62,
   "metadata": {},
   "outputs": [
    {
     "data": {
      "text/html": [
       "<div>\n",
       "<style scoped>\n",
       "    .dataframe tbody tr th:only-of-type {\n",
       "        vertical-align: middle;\n",
       "    }\n",
       "\n",
       "    .dataframe tbody tr th {\n",
       "        vertical-align: top;\n",
       "    }\n",
       "\n",
       "    .dataframe thead th {\n",
       "        text-align: right;\n",
       "    }\n",
       "</style>\n",
       "<table border=\"1\" class=\"dataframe\">\n",
       "  <thead>\n",
       "    <tr style=\"text-align: right;\">\n",
       "      <th></th>\n",
       "      <th>userid</th>\n",
       "      <th>gender</th>\n",
       "    </tr>\n",
       "  </thead>\n",
       "  <tbody>\n",
       "    <tr>\n",
       "      <th>0</th>\n",
       "      <td>4834460</td>\n",
       "      <td>M</td>\n",
       "    </tr>\n",
       "    <tr>\n",
       "      <th>1</th>\n",
       "      <td>4834437</td>\n",
       "      <td>M</td>\n",
       "    </tr>\n",
       "    <tr>\n",
       "      <th>2</th>\n",
       "      <td>4834411</td>\n",
       "      <td>F</td>\n",
       "    </tr>\n",
       "    <tr>\n",
       "      <th>3</th>\n",
       "      <td>4834405</td>\n",
       "      <td>M</td>\n",
       "    </tr>\n",
       "    <tr>\n",
       "      <th>4</th>\n",
       "      <td>4834352</td>\n",
       "      <td>M</td>\n",
       "    </tr>\n",
       "  </tbody>\n",
       "</table>\n",
       "</div>"
      ],
      "text/plain": [
       "    userid gender\n",
       "0  4834460      M\n",
       "1  4834437      M\n",
       "2  4834411      F\n",
       "3  4834405      M\n",
       "4  4834352      M"
      ]
     },
     "execution_count": 62,
     "metadata": {},
     "output_type": "execute_result"
    }
   ],
   "source": [
    "df_1.head()"
   ]
  },
  {
   "cell_type": "code",
   "execution_count": 63,
   "metadata": {},
   "outputs": [],
   "source": [
    "df_js = pd.read_json(\"Urls_data.txt\", lines=True)"
   ]
  },
  {
   "cell_type": "code",
   "execution_count": 64,
   "metadata": {},
   "outputs": [
    {
     "data": {
      "text/html": [
       "<div>\n",
       "<style scoped>\n",
       "    .dataframe tbody tr th:only-of-type {\n",
       "        vertical-align: middle;\n",
       "    }\n",
       "\n",
       "    .dataframe tbody tr th {\n",
       "        vertical-align: top;\n",
       "    }\n",
       "\n",
       "    .dataframe thead th {\n",
       "        text-align: right;\n",
       "    }\n",
       "</style>\n",
       "<table border=\"1\" class=\"dataframe\">\n",
       "  <thead>\n",
       "    <tr style=\"text-align: right;\">\n",
       "      <th></th>\n",
       "      <th>id</th>\n",
       "      <th>title</th>\n",
       "      <th>link</th>\n",
       "      <th>description</th>\n",
       "      <th>long_description</th>\n",
       "      <th>brand</th>\n",
       "      <th>entities</th>\n",
       "      <th>tags</th>\n",
       "      <th>alt_titles</th>\n",
       "    </tr>\n",
       "  </thead>\n",
       "  <tbody>\n",
       "    <tr>\n",
       "      <th>0</th>\n",
       "      <td>ed250aa5d96324b6a5022284ac8fcaa7</td>\n",
       "      <td>Tata-owned JLR launches new luxury SUV- Range ...</td>\n",
       "      <td>https://economictimes.indiatimes.com/industry/...</td>\n",
       "      <td>Default Agency Option of electrification The c...</td>\n",
       "      <td>Default Agency Option of electrification The c...</td>\n",
       "      <td>ET</td>\n",
       "      <td>[Land Rover]</td>\n",
       "      <td>NaN</td>\n",
       "      <td>NaN</td>\n",
       "    </tr>\n",
       "    <tr>\n",
       "      <th>1</th>\n",
       "      <td>94523652182662ea8997d03008cba45d</td>\n",
       "      <td>Forget Tesla, this Indian battery can change t...</td>\n",
       "      <td>https://economictimes.indiatimes.com/auto-comp...</td>\n",
       "      <td>Flipboard Google Plus Forget Tesla, this India...</td>\n",
       "      <td>Flipboard Google Plus Forget Tesla, this India...</td>\n",
       "      <td>ET</td>\n",
       "      <td>[]</td>\n",
       "      <td>NaN</td>\n",
       "      <td>NaN</td>\n",
       "    </tr>\n",
       "    <tr>\n",
       "      <th>2</th>\n",
       "      <td>8b390899875513973c92c9b014ec962e</td>\n",
       "      <td>Water quality of Ganga has worsened in 3 years...</td>\n",
       "      <td>https://economictimes.indiatimes.com/news/poli...</td>\n",
       "      <td>Flipboard Google Plus Water quality of Ganga h...</td>\n",
       "      <td>Flipboard Google Plus Water quality of Ganga h...</td>\n",
       "      <td>ET</td>\n",
       "      <td>[Prime Minister Narendra Modi, Ganga]</td>\n",
       "      <td>NaN</td>\n",
       "      <td>NaN</td>\n",
       "    </tr>\n",
       "    <tr>\n",
       "      <th>3</th>\n",
       "      <td>061a74f252abfd9f766ca2f45839733c</td>\n",
       "      <td>Statements made by opposition are making enemi...</td>\n",
       "      <td>https://economictimes.indiatimes.com/news/elec...</td>\n",
       "      <td>Mar 04, 2019, 07.42 AM IST 0Comments PTI He to...</td>\n",
       "      <td>Mar 04, 2019, 07.42 AM IST 0Comments PTI He to...</td>\n",
       "      <td>ET</td>\n",
       "      <td>[Prime Minister Narendra Modi]</td>\n",
       "      <td>NaN</td>\n",
       "      <td>NaN</td>\n",
       "    </tr>\n",
       "    <tr>\n",
       "      <th>4</th>\n",
       "      <td>fd37fc53607f4255e07b2d30ab788233</td>\n",
       "      <td>Tweet Buster: Top investment tips and what dis...</td>\n",
       "      <td>https://economictimes.indiatimes.com/markets/s...</td>\n",
       "      <td>Mar 17, 2019, 10.38 AM IST 0Comments AP Tweets...</td>\n",
       "      <td>Mar 17, 2019, 10.38 AM IST 0Comments AP Tweets...</td>\n",
       "      <td>ET</td>\n",
       "      <td>[Sandip Sabharwal, Basant Maheshwari]</td>\n",
       "      <td>NaN</td>\n",
       "      <td>NaN</td>\n",
       "    </tr>\n",
       "  </tbody>\n",
       "</table>\n",
       "</div>"
      ],
      "text/plain": [
       "                                 id  \\\n",
       "0  ed250aa5d96324b6a5022284ac8fcaa7   \n",
       "1  94523652182662ea8997d03008cba45d   \n",
       "2  8b390899875513973c92c9b014ec962e   \n",
       "3  061a74f252abfd9f766ca2f45839733c   \n",
       "4  fd37fc53607f4255e07b2d30ab788233   \n",
       "\n",
       "                                               title  \\\n",
       "0  Tata-owned JLR launches new luxury SUV- Range ...   \n",
       "1  Forget Tesla, this Indian battery can change t...   \n",
       "2  Water quality of Ganga has worsened in 3 years...   \n",
       "3  Statements made by opposition are making enemi...   \n",
       "4  Tweet Buster: Top investment tips and what dis...   \n",
       "\n",
       "                                                link  \\\n",
       "0  https://economictimes.indiatimes.com/industry/...   \n",
       "1  https://economictimes.indiatimes.com/auto-comp...   \n",
       "2  https://economictimes.indiatimes.com/news/poli...   \n",
       "3  https://economictimes.indiatimes.com/news/elec...   \n",
       "4  https://economictimes.indiatimes.com/markets/s...   \n",
       "\n",
       "                                         description  \\\n",
       "0  Default Agency Option of electrification The c...   \n",
       "1  Flipboard Google Plus Forget Tesla, this India...   \n",
       "2  Flipboard Google Plus Water quality of Ganga h...   \n",
       "3  Mar 04, 2019, 07.42 AM IST 0Comments PTI He to...   \n",
       "4  Mar 17, 2019, 10.38 AM IST 0Comments AP Tweets...   \n",
       "\n",
       "                                    long_description brand  \\\n",
       "0  Default Agency Option of electrification The c...    ET   \n",
       "1  Flipboard Google Plus Forget Tesla, this India...    ET   \n",
       "2  Flipboard Google Plus Water quality of Ganga h...    ET   \n",
       "3  Mar 04, 2019, 07.42 AM IST 0Comments PTI He to...    ET   \n",
       "4  Mar 17, 2019, 10.38 AM IST 0Comments AP Tweets...    ET   \n",
       "\n",
       "                                entities tags alt_titles  \n",
       "0                           [Land Rover]  NaN        NaN  \n",
       "1                                     []  NaN        NaN  \n",
       "2  [Prime Minister Narendra Modi, Ganga]  NaN        NaN  \n",
       "3         [Prime Minister Narendra Modi]  NaN        NaN  \n",
       "4  [Sandip Sabharwal, Basant Maheshwari]  NaN        NaN  "
      ]
     },
     "execution_count": 64,
     "metadata": {},
     "output_type": "execute_result"
    }
   ],
   "source": [
    "df_js.head()"
   ]
  },
  {
   "cell_type": "code",
   "execution_count": 65,
   "metadata": {},
   "outputs": [
    {
     "data": {
      "text/plain": [
       "109444"
      ]
     },
     "execution_count": 65,
     "metadata": {},
     "output_type": "execute_result"
    }
   ],
   "source": [
    "len(df_js)"
   ]
  },
  {
   "cell_type": "code",
   "execution_count": 66,
   "metadata": {},
   "outputs": [
    {
     "data": {
      "text/plain": [
       "id                       0\n",
       "title                    0\n",
       "link                     0\n",
       "description          19425\n",
       "long_description     22203\n",
       "brand                  422\n",
       "entities              5896\n",
       "tags                 41866\n",
       "alt_titles          109434\n",
       "dtype: int64"
      ]
     },
     "execution_count": 66,
     "metadata": {},
     "output_type": "execute_result"
    }
   ],
   "source": [
    "df_js.isnull().sum()"
   ]
  },
  {
   "cell_type": "code",
   "execution_count": 67,
   "metadata": {},
   "outputs": [
    {
     "data": {
      "text/plain": [
       "userid    0\n",
       "gender    0\n",
       "dtype: int64"
      ]
     },
     "execution_count": 67,
     "metadata": {},
     "output_type": "execute_result"
    }
   ],
   "source": [
    "df_1.isnull().sum()"
   ]
  },
  {
   "cell_type": "code",
   "execution_count": 68,
   "metadata": {},
   "outputs": [
    {
     "data": {
      "text/plain": [
       "229444"
      ]
     },
     "execution_count": 68,
     "metadata": {},
     "output_type": "execute_result"
    }
   ],
   "source": [
    "len(df_1)"
   ]
  },
  {
   "cell_type": "code",
   "execution_count": 69,
   "metadata": {},
   "outputs": [],
   "source": [
    "df_urltoid = pd.read_csv(\"part-00000\", usecols=range(2))"
   ]
  },
  {
   "cell_type": "code",
   "execution_count": 70,
   "metadata": {},
   "outputs": [
    {
     "data": {
      "text/html": [
       "<div>\n",
       "<style scoped>\n",
       "    .dataframe tbody tr th:only-of-type {\n",
       "        vertical-align: middle;\n",
       "    }\n",
       "\n",
       "    .dataframe tbody tr th {\n",
       "        vertical-align: top;\n",
       "    }\n",
       "\n",
       "    .dataframe thead th {\n",
       "        text-align: right;\n",
       "    }\n",
       "</style>\n",
       "<table border=\"1\" class=\"dataframe\">\n",
       "  <thead>\n",
       "    <tr style=\"text-align: right;\">\n",
       "      <th></th>\n",
       "      <th>userid</th>\n",
       "      <th>url</th>\n",
       "    </tr>\n",
       "  </thead>\n",
       "  <tbody>\n",
       "    <tr>\n",
       "      <th>0</th>\n",
       "      <td>2616607</td>\n",
       "      <td>http://timesofindia.indiatimes.com/</td>\n",
       "    </tr>\n",
       "    <tr>\n",
       "      <th>1</th>\n",
       "      <td>2616607</td>\n",
       "      <td>https://timesofindia.indiatimes.com/world/midd...</td>\n",
       "    </tr>\n",
       "    <tr>\n",
       "      <th>2</th>\n",
       "      <td>2616607</td>\n",
       "      <td>http://timesofindia.indiatimes.com/</td>\n",
       "    </tr>\n",
       "    <tr>\n",
       "      <th>3</th>\n",
       "      <td>2616607</td>\n",
       "      <td>http://timesofindia.indiatimes.com/</td>\n",
       "    </tr>\n",
       "    <tr>\n",
       "      <th>4</th>\n",
       "      <td>2616607</td>\n",
       "      <td>http://timesofindia.indiatimes.com/</td>\n",
       "    </tr>\n",
       "  </tbody>\n",
       "</table>\n",
       "</div>"
      ],
      "text/plain": [
       "    userid                                                url\n",
       "0  2616607                http://timesofindia.indiatimes.com/\n",
       "1  2616607  https://timesofindia.indiatimes.com/world/midd...\n",
       "2  2616607                http://timesofindia.indiatimes.com/\n",
       "3  2616607                http://timesofindia.indiatimes.com/\n",
       "4  2616607                http://timesofindia.indiatimes.com/"
      ]
     },
     "execution_count": 70,
     "metadata": {},
     "output_type": "execute_result"
    }
   ],
   "source": [
    "df_urltoid.head()"
   ]
  },
  {
   "cell_type": "code",
   "execution_count": 71,
   "metadata": {},
   "outputs": [
    {
     "data": {
      "text/plain": [
       "9091385"
      ]
     },
     "execution_count": 71,
     "metadata": {},
     "output_type": "execute_result"
    }
   ],
   "source": [
    "df_urltoid_1 = pd.read_csv(\"part-00001\", usecols=range(2))\n",
    "df_urltoid = df_urltoid.append(df_urltoid_1, ignore_index=True)\n",
    "len(df_urltoid)"
   ]
  },
  {
   "cell_type": "code",
   "execution_count": 72,
   "metadata": {},
   "outputs": [
    {
     "data": {
      "text/plain": [
       "13746901"
      ]
     },
     "execution_count": 72,
     "metadata": {},
     "output_type": "execute_result"
    }
   ],
   "source": [
    "df_urltoid_1 = pd.read_csv(\"part-00002\", usecols=range(2))\n",
    "df_urltoid = df_urltoid.append(df_urltoid_1, ignore_index=True)\n",
    "len(df_urltoid)"
   ]
  },
  {
   "cell_type": "code",
   "execution_count": 73,
   "metadata": {},
   "outputs": [
    {
     "data": {
      "text/plain": [
       "18262506"
      ]
     },
     "execution_count": 73,
     "metadata": {},
     "output_type": "execute_result"
    }
   ],
   "source": [
    "df_urltoid_1 = pd.read_csv(\"part-00003\", usecols=range(2))\n",
    "df_urltoid = df_urltoid.append(df_urltoid_1, ignore_index=True)\n",
    "len(df_urltoid)"
   ]
  },
  {
   "cell_type": "code",
   "execution_count": 74,
   "metadata": {},
   "outputs": [
    {
     "data": {
      "text/plain": [
       "22741093"
      ]
     },
     "execution_count": 74,
     "metadata": {},
     "output_type": "execute_result"
    }
   ],
   "source": [
    "df_urltoid_1 = pd.read_csv(\"part-00004\", usecols=range(2))\n",
    "df_urltoid = df_urltoid.append(df_urltoid_1, ignore_index=True)\n",
    "len(df_urltoid)"
   ]
  },
  {
   "cell_type": "code",
   "execution_count": 75,
   "metadata": {},
   "outputs": [
    {
     "data": {
      "text/plain": [
       "27307973"
      ]
     },
     "execution_count": 75,
     "metadata": {},
     "output_type": "execute_result"
    }
   ],
   "source": [
    "df_urltoid_1 = pd.read_csv(\"part-00005\", usecols=range(2))\n",
    "df_urltoid = df_urltoid.append(df_urltoid_1, ignore_index=True)\n",
    "len(df_urltoid)"
   ]
  },
  {
   "cell_type": "code",
   "execution_count": 76,
   "metadata": {},
   "outputs": [
    {
     "data": {
      "text/plain": [
       "31538235"
      ]
     },
     "execution_count": 76,
     "metadata": {},
     "output_type": "execute_result"
    }
   ],
   "source": [
    "df_urltoid_1 = pd.read_csv(\"part-00006\", usecols=range(2))\n",
    "df_urltoid = df_urltoid.append(df_urltoid_1, ignore_index=True)\n",
    "len(df_urltoid)"
   ]
  },
  {
   "cell_type": "code",
   "execution_count": 77,
   "metadata": {},
   "outputs": [
    {
     "data": {
      "text/plain": [
       "36204175"
      ]
     },
     "execution_count": 77,
     "metadata": {},
     "output_type": "execute_result"
    }
   ],
   "source": [
    "df_urltoid_1 = pd.read_csv(\"part-00007\", usecols=range(2))\n",
    "df_urltoid = df_urltoid.append(df_urltoid_1, ignore_index=True)\n",
    "len(df_urltoid)"
   ]
  },
  {
   "cell_type": "code",
   "execution_count": 78,
   "metadata": {},
   "outputs": [
    {
     "data": {
      "text/plain": [
       "40768188"
      ]
     },
     "execution_count": 78,
     "metadata": {},
     "output_type": "execute_result"
    }
   ],
   "source": [
    "df_urltoid_1 = pd.read_csv(\"part-00008\", usecols=range(2))\n",
    "df_urltoid = df_urltoid.append(df_urltoid_1, ignore_index=True)\n",
    "len(df_urltoid)"
   ]
  },
  {
   "cell_type": "code",
   "execution_count": 79,
   "metadata": {},
   "outputs": [
    {
     "data": {
      "text/plain": [
       "45145164"
      ]
     },
     "execution_count": 79,
     "metadata": {},
     "output_type": "execute_result"
    }
   ],
   "source": [
    "df_urltoid_1 = pd.read_csv(\"part-00009\", usecols=range(2))\n",
    "df_urltoid = df_urltoid.append(df_urltoid_1, ignore_index=True)\n",
    "len(df_urltoid)"
   ]
  },
  {
   "cell_type": "code",
   "execution_count": 80,
   "metadata": {},
   "outputs": [
    {
     "data": {
      "text/plain": [
       "49763294"
      ]
     },
     "execution_count": 80,
     "metadata": {},
     "output_type": "execute_result"
    }
   ],
   "source": [
    "df_urltoid_1 = pd.read_csv(\"part-00010\", usecols=range(2))\n",
    "df_urltoid = df_urltoid.append(df_urltoid_1, ignore_index=True)\n",
    "len(df_urltoid)"
   ]
  },
  {
   "cell_type": "code",
   "execution_count": 81,
   "metadata": {},
   "outputs": [
    {
     "data": {
      "text/plain": [
       "54459957"
      ]
     },
     "execution_count": 81,
     "metadata": {},
     "output_type": "execute_result"
    }
   ],
   "source": [
    "df_urltoid_1 = pd.read_csv(\"part-00011\", usecols=range(2))\n",
    "df_urltoid = df_urltoid.append(df_urltoid_1, ignore_index=True)\n",
    "len(df_urltoid)"
   ]
  },
  {
   "cell_type": "code",
   "execution_count": 82,
   "metadata": {},
   "outputs": [
    {
     "data": {
      "text/html": [
       "<div>\n",
       "<style scoped>\n",
       "    .dataframe tbody tr th:only-of-type {\n",
       "        vertical-align: middle;\n",
       "    }\n",
       "\n",
       "    .dataframe tbody tr th {\n",
       "        vertical-align: top;\n",
       "    }\n",
       "\n",
       "    .dataframe thead th {\n",
       "        text-align: right;\n",
       "    }\n",
       "</style>\n",
       "<table border=\"1\" class=\"dataframe\">\n",
       "  <thead>\n",
       "    <tr style=\"text-align: right;\">\n",
       "      <th></th>\n",
       "      <th>userid</th>\n",
       "      <th>url</th>\n",
       "    </tr>\n",
       "  </thead>\n",
       "  <tbody>\n",
       "    <tr>\n",
       "      <th>0</th>\n",
       "      <td>2616607</td>\n",
       "      <td>http://timesofindia.indiatimes.com/</td>\n",
       "    </tr>\n",
       "    <tr>\n",
       "      <th>1</th>\n",
       "      <td>2616607</td>\n",
       "      <td>https://timesofindia.indiatimes.com/world/midd...</td>\n",
       "    </tr>\n",
       "    <tr>\n",
       "      <th>2</th>\n",
       "      <td>2616607</td>\n",
       "      <td>http://timesofindia.indiatimes.com/</td>\n",
       "    </tr>\n",
       "    <tr>\n",
       "      <th>3</th>\n",
       "      <td>2616607</td>\n",
       "      <td>http://timesofindia.indiatimes.com/</td>\n",
       "    </tr>\n",
       "    <tr>\n",
       "      <th>4</th>\n",
       "      <td>2616607</td>\n",
       "      <td>http://timesofindia.indiatimes.com/</td>\n",
       "    </tr>\n",
       "  </tbody>\n",
       "</table>\n",
       "</div>"
      ],
      "text/plain": [
       "    userid                                                url\n",
       "0  2616607                http://timesofindia.indiatimes.com/\n",
       "1  2616607  https://timesofindia.indiatimes.com/world/midd...\n",
       "2  2616607                http://timesofindia.indiatimes.com/\n",
       "3  2616607                http://timesofindia.indiatimes.com/\n",
       "4  2616607                http://timesofindia.indiatimes.com/"
      ]
     },
     "execution_count": 82,
     "metadata": {},
     "output_type": "execute_result"
    }
   ],
   "source": [
    "df_urltoid.head()"
   ]
  },
  {
   "cell_type": "code",
   "execution_count": 83,
   "metadata": {},
   "outputs": [],
   "source": [
    "# df_urltoidd = df_urltoid.copy()"
   ]
  },
  {
   "cell_type": "code",
   "execution_count": 84,
   "metadata": {},
   "outputs": [],
   "source": [
    "df_urltoid.drop_duplicates(inplace = True)"
   ]
  },
  {
   "cell_type": "code",
   "execution_count": 85,
   "metadata": {},
   "outputs": [
    {
     "data": {
      "text/plain": [
       "4221165"
      ]
     },
     "execution_count": 85,
     "metadata": {},
     "output_type": "execute_result"
    }
   ],
   "source": [
    "len(df_urltoid)"
   ]
  },
  {
   "cell_type": "code",
   "execution_count": 554,
   "metadata": {},
   "outputs": [],
   "source": [
    "df = df_1.merge(df_urltoid, on = 'userid', sort = True)"
   ]
  },
  {
   "cell_type": "code",
   "execution_count": 555,
   "metadata": {},
   "outputs": [
    {
     "data": {
      "text/html": [
       "<div>\n",
       "<style scoped>\n",
       "    .dataframe tbody tr th:only-of-type {\n",
       "        vertical-align: middle;\n",
       "    }\n",
       "\n",
       "    .dataframe tbody tr th {\n",
       "        vertical-align: top;\n",
       "    }\n",
       "\n",
       "    .dataframe thead th {\n",
       "        text-align: right;\n",
       "    }\n",
       "</style>\n",
       "<table border=\"1\" class=\"dataframe\">\n",
       "  <thead>\n",
       "    <tr style=\"text-align: right;\">\n",
       "      <th></th>\n",
       "      <th>userid</th>\n",
       "      <th>gender</th>\n",
       "      <th>url</th>\n",
       "    </tr>\n",
       "  </thead>\n",
       "  <tbody>\n",
       "    <tr>\n",
       "      <th>0</th>\n",
       "      <td>5</td>\n",
       "      <td>M</td>\n",
       "      <td>https://m.maharashtratimes.com/topics/wealth/3</td>\n",
       "    </tr>\n",
       "    <tr>\n",
       "      <th>1</th>\n",
       "      <td>5</td>\n",
       "      <td>M</td>\n",
       "      <td>https://m.maharashtratimes.com/topics/wealth/2</td>\n",
       "    </tr>\n",
       "    <tr>\n",
       "      <th>2</th>\n",
       "      <td>214</td>\n",
       "      <td>M</td>\n",
       "      <td>https://m.gadgetsnow.com/mobile-phones/Xiaomi-...</td>\n",
       "    </tr>\n",
       "    <tr>\n",
       "      <th>3</th>\n",
       "      <td>214</td>\n",
       "      <td>M</td>\n",
       "      <td>https://m.gadgetsnow.com/compare-mobile-phones...</td>\n",
       "    </tr>\n",
       "    <tr>\n",
       "      <th>4</th>\n",
       "      <td>214</td>\n",
       "      <td>M</td>\n",
       "      <td>https://m.gadgetsnow.com/compare-mobile-phones...</td>\n",
       "    </tr>\n",
       "  </tbody>\n",
       "</table>\n",
       "</div>"
      ],
      "text/plain": [
       "   userid gender                                                url\n",
       "0       5      M     https://m.maharashtratimes.com/topics/wealth/3\n",
       "1       5      M     https://m.maharashtratimes.com/topics/wealth/2\n",
       "2     214      M  https://m.gadgetsnow.com/mobile-phones/Xiaomi-...\n",
       "3     214      M  https://m.gadgetsnow.com/compare-mobile-phones...\n",
       "4     214      M  https://m.gadgetsnow.com/compare-mobile-phones..."
      ]
     },
     "execution_count": 555,
     "metadata": {},
     "output_type": "execute_result"
    }
   ],
   "source": [
    "df.head()"
   ]
  },
  {
   "cell_type": "code",
   "execution_count": 556,
   "metadata": {},
   "outputs": [
    {
     "data": {
      "text/plain": [
       "2693252"
      ]
     },
     "execution_count": 556,
     "metadata": {},
     "output_type": "execute_result"
    }
   ],
   "source": [
    "len(df)"
   ]
  },
  {
   "cell_type": "code",
   "execution_count": 557,
   "metadata": {},
   "outputs": [
    {
     "data": {
      "text/html": [
       "<div>\n",
       "<style scoped>\n",
       "    .dataframe tbody tr th:only-of-type {\n",
       "        vertical-align: middle;\n",
       "    }\n",
       "\n",
       "    .dataframe tbody tr th {\n",
       "        vertical-align: top;\n",
       "    }\n",
       "\n",
       "    .dataframe thead th {\n",
       "        text-align: right;\n",
       "    }\n",
       "</style>\n",
       "<table border=\"1\" class=\"dataframe\">\n",
       "  <thead>\n",
       "    <tr style=\"text-align: right;\">\n",
       "      <th></th>\n",
       "      <th>id</th>\n",
       "      <th>title</th>\n",
       "      <th>url</th>\n",
       "      <th>description</th>\n",
       "      <th>long_description</th>\n",
       "      <th>brand</th>\n",
       "      <th>entities</th>\n",
       "      <th>tags</th>\n",
       "      <th>alt_titles</th>\n",
       "    </tr>\n",
       "  </thead>\n",
       "  <tbody>\n",
       "    <tr>\n",
       "      <th>0</th>\n",
       "      <td>ed250aa5d96324b6a5022284ac8fcaa7</td>\n",
       "      <td>Tata-owned JLR launches new luxury SUV- Range ...</td>\n",
       "      <td>https://economictimes.indiatimes.com/industry/...</td>\n",
       "      <td>Default Agency Option of electrification The c...</td>\n",
       "      <td>Default Agency Option of electrification The c...</td>\n",
       "      <td>ET</td>\n",
       "      <td>[Land Rover]</td>\n",
       "      <td>NaN</td>\n",
       "      <td>NaN</td>\n",
       "    </tr>\n",
       "    <tr>\n",
       "      <th>1</th>\n",
       "      <td>94523652182662ea8997d03008cba45d</td>\n",
       "      <td>Forget Tesla, this Indian battery can change t...</td>\n",
       "      <td>https://economictimes.indiatimes.com/auto-comp...</td>\n",
       "      <td>Flipboard Google Plus Forget Tesla, this India...</td>\n",
       "      <td>Flipboard Google Plus Forget Tesla, this India...</td>\n",
       "      <td>ET</td>\n",
       "      <td>[]</td>\n",
       "      <td>NaN</td>\n",
       "      <td>NaN</td>\n",
       "    </tr>\n",
       "    <tr>\n",
       "      <th>2</th>\n",
       "      <td>8b390899875513973c92c9b014ec962e</td>\n",
       "      <td>Water quality of Ganga has worsened in 3 years...</td>\n",
       "      <td>https://economictimes.indiatimes.com/news/poli...</td>\n",
       "      <td>Flipboard Google Plus Water quality of Ganga h...</td>\n",
       "      <td>Flipboard Google Plus Water quality of Ganga h...</td>\n",
       "      <td>ET</td>\n",
       "      <td>[Prime Minister Narendra Modi, Ganga]</td>\n",
       "      <td>NaN</td>\n",
       "      <td>NaN</td>\n",
       "    </tr>\n",
       "    <tr>\n",
       "      <th>3</th>\n",
       "      <td>061a74f252abfd9f766ca2f45839733c</td>\n",
       "      <td>Statements made by opposition are making enemi...</td>\n",
       "      <td>https://economictimes.indiatimes.com/news/elec...</td>\n",
       "      <td>Mar 04, 2019, 07.42 AM IST 0Comments PTI He to...</td>\n",
       "      <td>Mar 04, 2019, 07.42 AM IST 0Comments PTI He to...</td>\n",
       "      <td>ET</td>\n",
       "      <td>[Prime Minister Narendra Modi]</td>\n",
       "      <td>NaN</td>\n",
       "      <td>NaN</td>\n",
       "    </tr>\n",
       "    <tr>\n",
       "      <th>4</th>\n",
       "      <td>fd37fc53607f4255e07b2d30ab788233</td>\n",
       "      <td>Tweet Buster: Top investment tips and what dis...</td>\n",
       "      <td>https://economictimes.indiatimes.com/markets/s...</td>\n",
       "      <td>Mar 17, 2019, 10.38 AM IST 0Comments AP Tweets...</td>\n",
       "      <td>Mar 17, 2019, 10.38 AM IST 0Comments AP Tweets...</td>\n",
       "      <td>ET</td>\n",
       "      <td>[Sandip Sabharwal, Basant Maheshwari]</td>\n",
       "      <td>NaN</td>\n",
       "      <td>NaN</td>\n",
       "    </tr>\n",
       "  </tbody>\n",
       "</table>\n",
       "</div>"
      ],
      "text/plain": [
       "                                 id  \\\n",
       "0  ed250aa5d96324b6a5022284ac8fcaa7   \n",
       "1  94523652182662ea8997d03008cba45d   \n",
       "2  8b390899875513973c92c9b014ec962e   \n",
       "3  061a74f252abfd9f766ca2f45839733c   \n",
       "4  fd37fc53607f4255e07b2d30ab788233   \n",
       "\n",
       "                                               title  \\\n",
       "0  Tata-owned JLR launches new luxury SUV- Range ...   \n",
       "1  Forget Tesla, this Indian battery can change t...   \n",
       "2  Water quality of Ganga has worsened in 3 years...   \n",
       "3  Statements made by opposition are making enemi...   \n",
       "4  Tweet Buster: Top investment tips and what dis...   \n",
       "\n",
       "                                                 url  \\\n",
       "0  https://economictimes.indiatimes.com/industry/...   \n",
       "1  https://economictimes.indiatimes.com/auto-comp...   \n",
       "2  https://economictimes.indiatimes.com/news/poli...   \n",
       "3  https://economictimes.indiatimes.com/news/elec...   \n",
       "4  https://economictimes.indiatimes.com/markets/s...   \n",
       "\n",
       "                                         description  \\\n",
       "0  Default Agency Option of electrification The c...   \n",
       "1  Flipboard Google Plus Forget Tesla, this India...   \n",
       "2  Flipboard Google Plus Water quality of Ganga h...   \n",
       "3  Mar 04, 2019, 07.42 AM IST 0Comments PTI He to...   \n",
       "4  Mar 17, 2019, 10.38 AM IST 0Comments AP Tweets...   \n",
       "\n",
       "                                    long_description brand  \\\n",
       "0  Default Agency Option of electrification The c...    ET   \n",
       "1  Flipboard Google Plus Forget Tesla, this India...    ET   \n",
       "2  Flipboard Google Plus Water quality of Ganga h...    ET   \n",
       "3  Mar 04, 2019, 07.42 AM IST 0Comments PTI He to...    ET   \n",
       "4  Mar 17, 2019, 10.38 AM IST 0Comments AP Tweets...    ET   \n",
       "\n",
       "                                entities tags alt_titles  \n",
       "0                           [Land Rover]  NaN        NaN  \n",
       "1                                     []  NaN        NaN  \n",
       "2  [Prime Minister Narendra Modi, Ganga]  NaN        NaN  \n",
       "3         [Prime Minister Narendra Modi]  NaN        NaN  \n",
       "4  [Sandip Sabharwal, Basant Maheshwari]  NaN        NaN  "
      ]
     },
     "execution_count": 557,
     "metadata": {},
     "output_type": "execute_result"
    }
   ],
   "source": [
    "df_js.head()"
   ]
  },
  {
   "cell_type": "code",
   "execution_count": 558,
   "metadata": {},
   "outputs": [],
   "source": [
    "df_js.rename(columns = {'link': 'url'}, inplace=True)"
   ]
  },
  {
   "cell_type": "code",
   "execution_count": 559,
   "metadata": {},
   "outputs": [
    {
     "data": {
      "text/html": [
       "<div>\n",
       "<style scoped>\n",
       "    .dataframe tbody tr th:only-of-type {\n",
       "        vertical-align: middle;\n",
       "    }\n",
       "\n",
       "    .dataframe tbody tr th {\n",
       "        vertical-align: top;\n",
       "    }\n",
       "\n",
       "    .dataframe thead th {\n",
       "        text-align: right;\n",
       "    }\n",
       "</style>\n",
       "<table border=\"1\" class=\"dataframe\">\n",
       "  <thead>\n",
       "    <tr style=\"text-align: right;\">\n",
       "      <th></th>\n",
       "      <th>id</th>\n",
       "      <th>title</th>\n",
       "      <th>url</th>\n",
       "      <th>description</th>\n",
       "      <th>long_description</th>\n",
       "      <th>brand</th>\n",
       "      <th>entities</th>\n",
       "      <th>tags</th>\n",
       "      <th>alt_titles</th>\n",
       "    </tr>\n",
       "  </thead>\n",
       "  <tbody>\n",
       "    <tr>\n",
       "      <th>0</th>\n",
       "      <td>ed250aa5d96324b6a5022284ac8fcaa7</td>\n",
       "      <td>Tata-owned JLR launches new luxury SUV- Range ...</td>\n",
       "      <td>https://economictimes.indiatimes.com/industry/...</td>\n",
       "      <td>Default Agency Option of electrification The c...</td>\n",
       "      <td>Default Agency Option of electrification The c...</td>\n",
       "      <td>ET</td>\n",
       "      <td>[Land Rover]</td>\n",
       "      <td>NaN</td>\n",
       "      <td>NaN</td>\n",
       "    </tr>\n",
       "  </tbody>\n",
       "</table>\n",
       "</div>"
      ],
      "text/plain": [
       "                                 id  \\\n",
       "0  ed250aa5d96324b6a5022284ac8fcaa7   \n",
       "\n",
       "                                               title  \\\n",
       "0  Tata-owned JLR launches new luxury SUV- Range ...   \n",
       "\n",
       "                                                 url  \\\n",
       "0  https://economictimes.indiatimes.com/industry/...   \n",
       "\n",
       "                                         description  \\\n",
       "0  Default Agency Option of electrification The c...   \n",
       "\n",
       "                                    long_description brand      entities tags  \\\n",
       "0  Default Agency Option of electrification The c...    ET  [Land Rover]  NaN   \n",
       "\n",
       "  alt_titles  \n",
       "0        NaN  "
      ]
     },
     "execution_count": 559,
     "metadata": {},
     "output_type": "execute_result"
    }
   ],
   "source": [
    "df_js.head(1)"
   ]
  },
  {
   "cell_type": "code",
   "execution_count": 560,
   "metadata": {},
   "outputs": [],
   "source": [
    "df_js_1 = df_js[['url', 'brand', 'title']]"
   ]
  },
  {
   "cell_type": "code",
   "execution_count": 561,
   "metadata": {},
   "outputs": [
    {
     "data": {
      "text/html": [
       "<div>\n",
       "<style scoped>\n",
       "    .dataframe tbody tr th:only-of-type {\n",
       "        vertical-align: middle;\n",
       "    }\n",
       "\n",
       "    .dataframe tbody tr th {\n",
       "        vertical-align: top;\n",
       "    }\n",
       "\n",
       "    .dataframe thead th {\n",
       "        text-align: right;\n",
       "    }\n",
       "</style>\n",
       "<table border=\"1\" class=\"dataframe\">\n",
       "  <thead>\n",
       "    <tr style=\"text-align: right;\">\n",
       "      <th></th>\n",
       "      <th>url</th>\n",
       "      <th>brand</th>\n",
       "      <th>title</th>\n",
       "    </tr>\n",
       "  </thead>\n",
       "  <tbody>\n",
       "    <tr>\n",
       "      <th>0</th>\n",
       "      <td>https://economictimes.indiatimes.com/industry/...</td>\n",
       "      <td>ET</td>\n",
       "      <td>Tata-owned JLR launches new luxury SUV- Range ...</td>\n",
       "    </tr>\n",
       "    <tr>\n",
       "      <th>1</th>\n",
       "      <td>https://economictimes.indiatimes.com/auto-comp...</td>\n",
       "      <td>ET</td>\n",
       "      <td>Forget Tesla, this Indian battery can change t...</td>\n",
       "    </tr>\n",
       "    <tr>\n",
       "      <th>2</th>\n",
       "      <td>https://economictimes.indiatimes.com/news/poli...</td>\n",
       "      <td>ET</td>\n",
       "      <td>Water quality of Ganga has worsened in 3 years...</td>\n",
       "    </tr>\n",
       "    <tr>\n",
       "      <th>3</th>\n",
       "      <td>https://economictimes.indiatimes.com/news/elec...</td>\n",
       "      <td>ET</td>\n",
       "      <td>Statements made by opposition are making enemi...</td>\n",
       "    </tr>\n",
       "    <tr>\n",
       "      <th>4</th>\n",
       "      <td>https://economictimes.indiatimes.com/markets/s...</td>\n",
       "      <td>ET</td>\n",
       "      <td>Tweet Buster: Top investment tips and what dis...</td>\n",
       "    </tr>\n",
       "  </tbody>\n",
       "</table>\n",
       "</div>"
      ],
      "text/plain": [
       "                                                 url brand  \\\n",
       "0  https://economictimes.indiatimes.com/industry/...    ET   \n",
       "1  https://economictimes.indiatimes.com/auto-comp...    ET   \n",
       "2  https://economictimes.indiatimes.com/news/poli...    ET   \n",
       "3  https://economictimes.indiatimes.com/news/elec...    ET   \n",
       "4  https://economictimes.indiatimes.com/markets/s...    ET   \n",
       "\n",
       "                                               title  \n",
       "0  Tata-owned JLR launches new luxury SUV- Range ...  \n",
       "1  Forget Tesla, this Indian battery can change t...  \n",
       "2  Water quality of Ganga has worsened in 3 years...  \n",
       "3  Statements made by opposition are making enemi...  \n",
       "4  Tweet Buster: Top investment tips and what dis...  "
      ]
     },
     "execution_count": 561,
     "metadata": {},
     "output_type": "execute_result"
    }
   ],
   "source": [
    "df_js_1.head()"
   ]
  },
  {
   "cell_type": "code",
   "execution_count": 562,
   "metadata": {},
   "outputs": [
    {
     "data": {
      "text/plain": [
       "id                       0\n",
       "title                    0\n",
       "url                      0\n",
       "description          19425\n",
       "long_description     22203\n",
       "brand                  422\n",
       "entities              5896\n",
       "tags                 41866\n",
       "alt_titles          109434\n",
       "dtype: int64"
      ]
     },
     "execution_count": 562,
     "metadata": {},
     "output_type": "execute_result"
    }
   ],
   "source": [
    "df_js.isnull().sum()"
   ]
  },
  {
   "cell_type": "code",
   "execution_count": 563,
   "metadata": {},
   "outputs": [
    {
     "data": {
      "text/plain": [
       "109444"
      ]
     },
     "execution_count": 563,
     "metadata": {},
     "output_type": "execute_result"
    }
   ],
   "source": [
    "len(df_js)"
   ]
  },
  {
   "cell_type": "code",
   "execution_count": 564,
   "metadata": {},
   "outputs": [],
   "source": [
    "df_f = df.merge(df_js_1, on='url')"
   ]
  },
  {
   "cell_type": "code",
   "execution_count": 565,
   "metadata": {},
   "outputs": [
    {
     "data": {
      "text/html": [
       "<div>\n",
       "<style scoped>\n",
       "    .dataframe tbody tr th:only-of-type {\n",
       "        vertical-align: middle;\n",
       "    }\n",
       "\n",
       "    .dataframe tbody tr th {\n",
       "        vertical-align: top;\n",
       "    }\n",
       "\n",
       "    .dataframe thead th {\n",
       "        text-align: right;\n",
       "    }\n",
       "</style>\n",
       "<table border=\"1\" class=\"dataframe\">\n",
       "  <thead>\n",
       "    <tr style=\"text-align: right;\">\n",
       "      <th></th>\n",
       "      <th>userid</th>\n",
       "      <th>gender</th>\n",
       "      <th>url</th>\n",
       "      <th>brand</th>\n",
       "      <th>title</th>\n",
       "    </tr>\n",
       "  </thead>\n",
       "  <tbody>\n",
       "    <tr>\n",
       "      <th>0</th>\n",
       "      <td>1521071</td>\n",
       "      <td>M</td>\n",
       "      <td>http://timesofindia.indiatimes.com/</td>\n",
       "      <td>TIMES OF INDIA</td>\n",
       "      <td>India News, Latest Sports, Bollywood, World,</td>\n",
       "    </tr>\n",
       "    <tr>\n",
       "      <th>1</th>\n",
       "      <td>1521071</td>\n",
       "      <td>M</td>\n",
       "      <td>http://timesofindia.indiatimes.com/</td>\n",
       "      <td>TIMES OF INDIA</td>\n",
       "      <td>News: India News, Latest Bollywood News, Spor</td>\n",
       "    </tr>\n",
       "    <tr>\n",
       "      <th>2</th>\n",
       "      <td>1521071</td>\n",
       "      <td>M</td>\n",
       "      <td>http://timesofindia.indiatimes.com/</td>\n",
       "      <td>TIMES OF INDIA</td>\n",
       "      <td>News: India News, Latest Bollywood News, Spor</td>\n",
       "    </tr>\n",
       "    <tr>\n",
       "      <th>3</th>\n",
       "      <td>1521071</td>\n",
       "      <td>M</td>\n",
       "      <td>http://timesofindia.indiatimes.com/</td>\n",
       "      <td>TIMES OF INDIA</td>\n",
       "      <td>News: India News, Latest Bollywood News, Spor</td>\n",
       "    </tr>\n",
       "    <tr>\n",
       "      <th>4</th>\n",
       "      <td>1521071</td>\n",
       "      <td>M</td>\n",
       "      <td>http://timesofindia.indiatimes.com/</td>\n",
       "      <td>TIMES OF INDIA</td>\n",
       "      <td>News: India News, Latest Bollywood News, Spor</td>\n",
       "    </tr>\n",
       "  </tbody>\n",
       "</table>\n",
       "</div>"
      ],
      "text/plain": [
       "    userid gender                                  url           brand  \\\n",
       "0  1521071      M  http://timesofindia.indiatimes.com/  TIMES OF INDIA   \n",
       "1  1521071      M  http://timesofindia.indiatimes.com/  TIMES OF INDIA   \n",
       "2  1521071      M  http://timesofindia.indiatimes.com/  TIMES OF INDIA   \n",
       "3  1521071      M  http://timesofindia.indiatimes.com/  TIMES OF INDIA   \n",
       "4  1521071      M  http://timesofindia.indiatimes.com/  TIMES OF INDIA   \n",
       "\n",
       "                                           title  \n",
       "0   India News, Latest Sports, Bollywood, World,  \n",
       "1  News: India News, Latest Bollywood News, Spor  \n",
       "2  News: India News, Latest Bollywood News, Spor  \n",
       "3  News: India News, Latest Bollywood News, Spor  \n",
       "4  News: India News, Latest Bollywood News, Spor  "
      ]
     },
     "execution_count": 565,
     "metadata": {},
     "output_type": "execute_result"
    }
   ],
   "source": [
    "df_f.head()"
   ]
  },
  {
   "cell_type": "code",
   "execution_count": 566,
   "metadata": {},
   "outputs": [],
   "source": [
    "df_f.drop_duplicates(inplace=True, subset = ['userid', 'gender', 'url'])"
   ]
  },
  {
   "cell_type": "code",
   "execution_count": 567,
   "metadata": {},
   "outputs": [
    {
     "data": {
      "text/html": [
       "<div>\n",
       "<style scoped>\n",
       "    .dataframe tbody tr th:only-of-type {\n",
       "        vertical-align: middle;\n",
       "    }\n",
       "\n",
       "    .dataframe tbody tr th {\n",
       "        vertical-align: top;\n",
       "    }\n",
       "\n",
       "    .dataframe thead th {\n",
       "        text-align: right;\n",
       "    }\n",
       "</style>\n",
       "<table border=\"1\" class=\"dataframe\">\n",
       "  <thead>\n",
       "    <tr style=\"text-align: right;\">\n",
       "      <th></th>\n",
       "      <th>userid</th>\n",
       "      <th>gender</th>\n",
       "      <th>url</th>\n",
       "      <th>brand</th>\n",
       "      <th>title</th>\n",
       "    </tr>\n",
       "  </thead>\n",
       "  <tbody>\n",
       "    <tr>\n",
       "      <th>0</th>\n",
       "      <td>1521071</td>\n",
       "      <td>M</td>\n",
       "      <td>http://timesofindia.indiatimes.com/</td>\n",
       "      <td>TIMES OF INDIA</td>\n",
       "      <td>India News, Latest Sports, Bollywood, World,</td>\n",
       "    </tr>\n",
       "    <tr>\n",
       "      <th>24</th>\n",
       "      <td>1521083</td>\n",
       "      <td>M</td>\n",
       "      <td>http://timesofindia.indiatimes.com/</td>\n",
       "      <td>TIMES OF INDIA</td>\n",
       "      <td>India News, Latest Sports, Bollywood, World,</td>\n",
       "    </tr>\n",
       "    <tr>\n",
       "      <th>48</th>\n",
       "      <td>1521121</td>\n",
       "      <td>M</td>\n",
       "      <td>http://timesofindia.indiatimes.com/</td>\n",
       "      <td>TIMES OF INDIA</td>\n",
       "      <td>India News, Latest Sports, Bollywood, World,</td>\n",
       "    </tr>\n",
       "    <tr>\n",
       "      <th>72</th>\n",
       "      <td>1521130</td>\n",
       "      <td>M</td>\n",
       "      <td>http://timesofindia.indiatimes.com/</td>\n",
       "      <td>TIMES OF INDIA</td>\n",
       "      <td>India News, Latest Sports, Bollywood, World,</td>\n",
       "    </tr>\n",
       "    <tr>\n",
       "      <th>96</th>\n",
       "      <td>1521159</td>\n",
       "      <td>F</td>\n",
       "      <td>http://timesofindia.indiatimes.com/</td>\n",
       "      <td>TIMES OF INDIA</td>\n",
       "      <td>India News, Latest Sports, Bollywood, World,</td>\n",
       "    </tr>\n",
       "  </tbody>\n",
       "</table>\n",
       "</div>"
      ],
      "text/plain": [
       "     userid gender                                  url           brand  \\\n",
       "0   1521071      M  http://timesofindia.indiatimes.com/  TIMES OF INDIA   \n",
       "24  1521083      M  http://timesofindia.indiatimes.com/  TIMES OF INDIA   \n",
       "48  1521121      M  http://timesofindia.indiatimes.com/  TIMES OF INDIA   \n",
       "72  1521130      M  http://timesofindia.indiatimes.com/  TIMES OF INDIA   \n",
       "96  1521159      F  http://timesofindia.indiatimes.com/  TIMES OF INDIA   \n",
       "\n",
       "                                           title  \n",
       "0   India News, Latest Sports, Bollywood, World,  \n",
       "24  India News, Latest Sports, Bollywood, World,  \n",
       "48  India News, Latest Sports, Bollywood, World,  \n",
       "72  India News, Latest Sports, Bollywood, World,  \n",
       "96  India News, Latest Sports, Bollywood, World,  "
      ]
     },
     "execution_count": 567,
     "metadata": {},
     "output_type": "execute_result"
    }
   ],
   "source": [
    "df_f.head()"
   ]
  },
  {
   "cell_type": "code",
   "execution_count": 568,
   "metadata": {},
   "outputs": [
    {
     "data": {
      "text/plain": [
       "1860766"
      ]
     },
     "execution_count": 568,
     "metadata": {},
     "output_type": "execute_result"
    }
   ],
   "source": [
    "len(df_f)"
   ]
  },
  {
   "cell_type": "code",
   "execution_count": 569,
   "metadata": {},
   "outputs": [
    {
     "data": {
      "text/plain": [
       "userid      0\n",
       "gender      0\n",
       "url         0\n",
       "brand     757\n",
       "title       0\n",
       "dtype: int64"
      ]
     },
     "execution_count": 569,
     "metadata": {},
     "output_type": "execute_result"
    }
   ],
   "source": [
    "df_f.isnull().sum()"
   ]
  },
  {
   "cell_type": "code",
   "execution_count": 570,
   "metadata": {},
   "outputs": [
    {
     "data": {
      "text/html": [
       "<div>\n",
       "<style scoped>\n",
       "    .dataframe tbody tr th:only-of-type {\n",
       "        vertical-align: middle;\n",
       "    }\n",
       "\n",
       "    .dataframe tbody tr th {\n",
       "        vertical-align: top;\n",
       "    }\n",
       "\n",
       "    .dataframe thead th {\n",
       "        text-align: right;\n",
       "    }\n",
       "</style>\n",
       "<table border=\"1\" class=\"dataframe\">\n",
       "  <thead>\n",
       "    <tr style=\"text-align: right;\">\n",
       "      <th></th>\n",
       "      <th>userid</th>\n",
       "      <th>gender</th>\n",
       "      <th>url</th>\n",
       "      <th>brand</th>\n",
       "      <th>title</th>\n",
       "    </tr>\n",
       "  </thead>\n",
       "  <tbody>\n",
       "    <tr>\n",
       "      <th>4484347</th>\n",
       "      <td>1529670</td>\n",
       "      <td>M</td>\n",
       "      <td>http://www.breakingbangla.com/2018/09/blog-pos...</td>\n",
       "      <td>NaN</td>\n",
       "      <td>à¦¯à§Œà¦¨ à¦¸à¦™à§�à¦—à¦® à¦›à¦¾à¦¡à¦¼à¦¾à¦“ à...</td>\n",
       "    </tr>\n",
       "    <tr>\n",
       "      <th>4484348</th>\n",
       "      <td>1551628</td>\n",
       "      <td>M</td>\n",
       "      <td>http://www.breakingbangla.com/2018/09/blog-pos...</td>\n",
       "      <td>NaN</td>\n",
       "      <td>à¦¯à§Œà¦¨ à¦¸à¦™à§�à¦—à¦® à¦›à¦¾à¦¡à¦¼à¦¾à¦“ à...</td>\n",
       "    </tr>\n",
       "    <tr>\n",
       "      <th>4484349</th>\n",
       "      <td>1576824</td>\n",
       "      <td>M</td>\n",
       "      <td>http://www.breakingbangla.com/2018/09/blog-pos...</td>\n",
       "      <td>NaN</td>\n",
       "      <td>à¦¯à§Œà¦¨ à¦¸à¦™à§�à¦—à¦® à¦›à¦¾à¦¡à¦¼à¦¾à¦“ à...</td>\n",
       "    </tr>\n",
       "    <tr>\n",
       "      <th>4484350</th>\n",
       "      <td>1618014</td>\n",
       "      <td>M</td>\n",
       "      <td>http://www.breakingbangla.com/2018/09/blog-pos...</td>\n",
       "      <td>NaN</td>\n",
       "      <td>à¦¯à§Œà¦¨ à¦¸à¦™à§�à¦—à¦® à¦›à¦¾à¦¡à¦¼à¦¾à¦“ à...</td>\n",
       "    </tr>\n",
       "    <tr>\n",
       "      <th>4484351</th>\n",
       "      <td>1659886</td>\n",
       "      <td>M</td>\n",
       "      <td>http://www.breakingbangla.com/2018/09/blog-pos...</td>\n",
       "      <td>NaN</td>\n",
       "      <td>à¦¯à§Œà¦¨ à¦¸à¦™à§�à¦—à¦® à¦›à¦¾à¦¡à¦¼à¦¾à¦“ à...</td>\n",
       "    </tr>\n",
       "    <tr>\n",
       "      <th>4484352</th>\n",
       "      <td>1691841</td>\n",
       "      <td>M</td>\n",
       "      <td>http://www.breakingbangla.com/2018/09/blog-pos...</td>\n",
       "      <td>NaN</td>\n",
       "      <td>à¦¯à§Œà¦¨ à¦¸à¦™à§�à¦—à¦® à¦›à¦¾à¦¡à¦¼à¦¾à¦“ à...</td>\n",
       "    </tr>\n",
       "    <tr>\n",
       "      <th>4484353</th>\n",
       "      <td>1731932</td>\n",
       "      <td>M</td>\n",
       "      <td>http://www.breakingbangla.com/2018/09/blog-pos...</td>\n",
       "      <td>NaN</td>\n",
       "      <td>à¦¯à§Œà¦¨ à¦¸à¦™à§�à¦—à¦® à¦›à¦¾à¦¡à¦¼à¦¾à¦“ à...</td>\n",
       "    </tr>\n",
       "    <tr>\n",
       "      <th>4484354</th>\n",
       "      <td>1784845</td>\n",
       "      <td>M</td>\n",
       "      <td>http://www.breakingbangla.com/2018/09/blog-pos...</td>\n",
       "      <td>NaN</td>\n",
       "      <td>à¦¯à§Œà¦¨ à¦¸à¦™à§�à¦—à¦® à¦›à¦¾à¦¡à¦¼à¦¾à¦“ à...</td>\n",
       "    </tr>\n",
       "    <tr>\n",
       "      <th>4484355</th>\n",
       "      <td>1808156</td>\n",
       "      <td>M</td>\n",
       "      <td>http://www.breakingbangla.com/2018/09/blog-pos...</td>\n",
       "      <td>NaN</td>\n",
       "      <td>à¦¯à§Œà¦¨ à¦¸à¦™à§�à¦—à¦® à¦›à¦¾à¦¡à¦¼à¦¾à¦“ à...</td>\n",
       "    </tr>\n",
       "    <tr>\n",
       "      <th>4484356</th>\n",
       "      <td>1831834</td>\n",
       "      <td>M</td>\n",
       "      <td>http://www.breakingbangla.com/2018/09/blog-pos...</td>\n",
       "      <td>NaN</td>\n",
       "      <td>à¦¯à§Œà¦¨ à¦¸à¦™à§�à¦—à¦® à¦›à¦¾à¦¡à¦¼à¦¾à¦“ à...</td>\n",
       "    </tr>\n",
       "    <tr>\n",
       "      <th>4484357</th>\n",
       "      <td>1836177</td>\n",
       "      <td>M</td>\n",
       "      <td>http://www.breakingbangla.com/2018/09/blog-pos...</td>\n",
       "      <td>NaN</td>\n",
       "      <td>à¦¯à§Œà¦¨ à¦¸à¦™à§�à¦—à¦® à¦›à¦¾à¦¡à¦¼à¦¾à¦“ à...</td>\n",
       "    </tr>\n",
       "    <tr>\n",
       "      <th>4484358</th>\n",
       "      <td>1843041</td>\n",
       "      <td>M</td>\n",
       "      <td>http://www.breakingbangla.com/2018/09/blog-pos...</td>\n",
       "      <td>NaN</td>\n",
       "      <td>à¦¯à§Œà¦¨ à¦¸à¦™à§�à¦—à¦® à¦›à¦¾à¦¡à¦¼à¦¾à¦“ à...</td>\n",
       "    </tr>\n",
       "    <tr>\n",
       "      <th>4484359</th>\n",
       "      <td>1863433</td>\n",
       "      <td>M</td>\n",
       "      <td>http://www.breakingbangla.com/2018/09/blog-pos...</td>\n",
       "      <td>NaN</td>\n",
       "      <td>à¦¯à§Œà¦¨ à¦¸à¦™à§�à¦—à¦® à¦›à¦¾à¦¡à¦¼à¦¾à¦“ à...</td>\n",
       "    </tr>\n",
       "    <tr>\n",
       "      <th>4484360</th>\n",
       "      <td>1871219</td>\n",
       "      <td>F</td>\n",
       "      <td>http://www.breakingbangla.com/2018/09/blog-pos...</td>\n",
       "      <td>NaN</td>\n",
       "      <td>à¦¯à§Œà¦¨ à¦¸à¦™à§�à¦—à¦® à¦›à¦¾à¦¡à¦¼à¦¾à¦“ à...</td>\n",
       "    </tr>\n",
       "    <tr>\n",
       "      <th>4484361</th>\n",
       "      <td>1895933</td>\n",
       "      <td>M</td>\n",
       "      <td>http://www.breakingbangla.com/2018/09/blog-pos...</td>\n",
       "      <td>NaN</td>\n",
       "      <td>à¦¯à§Œà¦¨ à¦¸à¦™à§�à¦—à¦® à¦›à¦¾à¦¡à¦¼à¦¾à¦“ à...</td>\n",
       "    </tr>\n",
       "    <tr>\n",
       "      <th>4484362</th>\n",
       "      <td>1931000</td>\n",
       "      <td>M</td>\n",
       "      <td>http://www.breakingbangla.com/2018/09/blog-pos...</td>\n",
       "      <td>NaN</td>\n",
       "      <td>à¦¯à§Œà¦¨ à¦¸à¦™à§�à¦—à¦® à¦›à¦¾à¦¡à¦¼à¦¾à¦“ à...</td>\n",
       "    </tr>\n",
       "    <tr>\n",
       "      <th>4484363</th>\n",
       "      <td>1979059</td>\n",
       "      <td>M</td>\n",
       "      <td>http://www.breakingbangla.com/2018/09/blog-pos...</td>\n",
       "      <td>NaN</td>\n",
       "      <td>à¦¯à§Œà¦¨ à¦¸à¦™à§�à¦—à¦® à¦›à¦¾à¦¡à¦¼à¦¾à¦“ à...</td>\n",
       "    </tr>\n",
       "    <tr>\n",
       "      <th>4484364</th>\n",
       "      <td>1993691</td>\n",
       "      <td>M</td>\n",
       "      <td>http://www.breakingbangla.com/2018/09/blog-pos...</td>\n",
       "      <td>NaN</td>\n",
       "      <td>à¦¯à§Œà¦¨ à¦¸à¦™à§�à¦—à¦® à¦›à¦¾à¦¡à¦¼à¦¾à¦“ à...</td>\n",
       "    </tr>\n",
       "    <tr>\n",
       "      <th>4484365</th>\n",
       "      <td>2026489</td>\n",
       "      <td>M</td>\n",
       "      <td>http://www.breakingbangla.com/2018/09/blog-pos...</td>\n",
       "      <td>NaN</td>\n",
       "      <td>à¦¯à§Œà¦¨ à¦¸à¦™à§�à¦—à¦® à¦›à¦¾à¦¡à¦¼à¦¾à¦“ à...</td>\n",
       "    </tr>\n",
       "    <tr>\n",
       "      <th>4484366</th>\n",
       "      <td>2056409</td>\n",
       "      <td>M</td>\n",
       "      <td>http://www.breakingbangla.com/2018/09/blog-pos...</td>\n",
       "      <td>NaN</td>\n",
       "      <td>à¦¯à§Œà¦¨ à¦¸à¦™à§�à¦—à¦® à¦›à¦¾à¦¡à¦¼à¦¾à¦“ à...</td>\n",
       "    </tr>\n",
       "    <tr>\n",
       "      <th>4484367</th>\n",
       "      <td>2101530</td>\n",
       "      <td>M</td>\n",
       "      <td>http://www.breakingbangla.com/2018/09/blog-pos...</td>\n",
       "      <td>NaN</td>\n",
       "      <td>à¦¯à§Œà¦¨ à¦¸à¦™à§�à¦—à¦® à¦›à¦¾à¦¡à¦¼à¦¾à¦“ à...</td>\n",
       "    </tr>\n",
       "    <tr>\n",
       "      <th>4484368</th>\n",
       "      <td>2117394</td>\n",
       "      <td>M</td>\n",
       "      <td>http://www.breakingbangla.com/2018/09/blog-pos...</td>\n",
       "      <td>NaN</td>\n",
       "      <td>à¦¯à§Œà¦¨ à¦¸à¦™à§�à¦—à¦® à¦›à¦¾à¦¡à¦¼à¦¾à¦“ à...</td>\n",
       "    </tr>\n",
       "    <tr>\n",
       "      <th>4484369</th>\n",
       "      <td>2119527</td>\n",
       "      <td>M</td>\n",
       "      <td>http://www.breakingbangla.com/2018/09/blog-pos...</td>\n",
       "      <td>NaN</td>\n",
       "      <td>à¦¯à§Œà¦¨ à¦¸à¦™à§�à¦—à¦® à¦›à¦¾à¦¡à¦¼à¦¾à¦“ à...</td>\n",
       "    </tr>\n",
       "    <tr>\n",
       "      <th>4484370</th>\n",
       "      <td>2143231</td>\n",
       "      <td>F</td>\n",
       "      <td>http://www.breakingbangla.com/2018/09/blog-pos...</td>\n",
       "      <td>NaN</td>\n",
       "      <td>à¦¯à§Œà¦¨ à¦¸à¦™à§�à¦—à¦® à¦›à¦¾à¦¡à¦¼à¦¾à¦“ à...</td>\n",
       "    </tr>\n",
       "    <tr>\n",
       "      <th>4484371</th>\n",
       "      <td>2191754</td>\n",
       "      <td>M</td>\n",
       "      <td>http://www.breakingbangla.com/2018/09/blog-pos...</td>\n",
       "      <td>NaN</td>\n",
       "      <td>à¦¯à§Œà¦¨ à¦¸à¦™à§�à¦—à¦® à¦›à¦¾à¦¡à¦¼à¦¾à¦“ à...</td>\n",
       "    </tr>\n",
       "    <tr>\n",
       "      <th>4484372</th>\n",
       "      <td>2206343</td>\n",
       "      <td>M</td>\n",
       "      <td>http://www.breakingbangla.com/2018/09/blog-pos...</td>\n",
       "      <td>NaN</td>\n",
       "      <td>à¦¯à§Œà¦¨ à¦¸à¦™à§�à¦—à¦® à¦›à¦¾à¦¡à¦¼à¦¾à¦“ à...</td>\n",
       "    </tr>\n",
       "    <tr>\n",
       "      <th>4484373</th>\n",
       "      <td>2230080</td>\n",
       "      <td>M</td>\n",
       "      <td>http://www.breakingbangla.com/2018/09/blog-pos...</td>\n",
       "      <td>NaN</td>\n",
       "      <td>à¦¯à§Œà¦¨ à¦¸à¦™à§�à¦—à¦® à¦›à¦¾à¦¡à¦¼à¦¾à¦“ à...</td>\n",
       "    </tr>\n",
       "    <tr>\n",
       "      <th>4484374</th>\n",
       "      <td>2273560</td>\n",
       "      <td>M</td>\n",
       "      <td>http://www.breakingbangla.com/2018/09/blog-pos...</td>\n",
       "      <td>NaN</td>\n",
       "      <td>à¦¯à§Œà¦¨ à¦¸à¦™à§�à¦—à¦® à¦›à¦¾à¦¡à¦¼à¦¾à¦“ à...</td>\n",
       "    </tr>\n",
       "    <tr>\n",
       "      <th>4484375</th>\n",
       "      <td>2299605</td>\n",
       "      <td>M</td>\n",
       "      <td>http://www.breakingbangla.com/2018/09/blog-pos...</td>\n",
       "      <td>NaN</td>\n",
       "      <td>à¦¯à§Œà¦¨ à¦¸à¦™à§�à¦—à¦® à¦›à¦¾à¦¡à¦¼à¦¾à¦“ à...</td>\n",
       "    </tr>\n",
       "    <tr>\n",
       "      <th>4484376</th>\n",
       "      <td>2319079</td>\n",
       "      <td>M</td>\n",
       "      <td>http://www.breakingbangla.com/2018/09/blog-pos...</td>\n",
       "      <td>NaN</td>\n",
       "      <td>à¦¯à§Œà¦¨ à¦¸à¦™à§�à¦—à¦® à¦›à¦¾à¦¡à¦¼à¦¾à¦“ à...</td>\n",
       "    </tr>\n",
       "    <tr>\n",
       "      <th>...</th>\n",
       "      <td>...</td>\n",
       "      <td>...</td>\n",
       "      <td>...</td>\n",
       "      <td>...</td>\n",
       "      <td>...</td>\n",
       "    </tr>\n",
       "    <tr>\n",
       "      <th>5798080</th>\n",
       "      <td>4816461</td>\n",
       "      <td>M</td>\n",
       "      <td>https://www.ganeshaspeaks.com/zodiac-signs/sco...</td>\n",
       "      <td>NaN</td>\n",
       "      <td>Scorpio</td>\n",
       "    </tr>\n",
       "    <tr>\n",
       "      <th>5801093</th>\n",
       "      <td>3363401</td>\n",
       "      <td>M</td>\n",
       "      <td>https://hindi.sportskeeda.com/cricket/odi-stat...</td>\n",
       "      <td>NaN</td>\n",
       "      <td>à¤�à¤•à¤¦à¤¿à¤µà¤¸à¥€à¤¯ à¤…à¤‚à¤¤à¤°à¤°à¤¾à¤·...</td>\n",
       "    </tr>\n",
       "    <tr>\n",
       "      <th>5807198</th>\n",
       "      <td>3667196</td>\n",
       "      <td>M</td>\n",
       "      <td>http://www.ganeshaspeaks.com/hindi/taurus.action</td>\n",
       "      <td>NaN</td>\n",
       "      <td>à¤µà¥ƒà¤·à¤­</td>\n",
       "    </tr>\n",
       "    <tr>\n",
       "      <th>5807200</th>\n",
       "      <td>3667196</td>\n",
       "      <td>M</td>\n",
       "      <td>http://www.ganeshaspeaks.com/hindi/pisces.action</td>\n",
       "      <td>NaN</td>\n",
       "      <td>à¤®à¥€à¤¨</td>\n",
       "    </tr>\n",
       "    <tr>\n",
       "      <th>5807202</th>\n",
       "      <td>3667196</td>\n",
       "      <td>M</td>\n",
       "      <td>http://www.ganeshaspeaks.com/hindi/libra.action</td>\n",
       "      <td>NaN</td>\n",
       "      <td>à¤¤à¥�à¤²à¤¾</td>\n",
       "    </tr>\n",
       "    <tr>\n",
       "      <th>5807203</th>\n",
       "      <td>3667196</td>\n",
       "      <td>M</td>\n",
       "      <td>http://www.ganeshaspeaks.com/hindi/cancer.action</td>\n",
       "      <td>NaN</td>\n",
       "      <td>à¤•à¤°à¥�à¤•</td>\n",
       "    </tr>\n",
       "    <tr>\n",
       "      <th>5807205</th>\n",
       "      <td>3667196</td>\n",
       "      <td>M</td>\n",
       "      <td>http://www.ganeshaspeaks.com/hindi/aries.action</td>\n",
       "      <td>NaN</td>\n",
       "      <td>à¤®à¥‡à¤·</td>\n",
       "    </tr>\n",
       "    <tr>\n",
       "      <th>5807207</th>\n",
       "      <td>3667196</td>\n",
       "      <td>M</td>\n",
       "      <td>http://www.ganeshaspeaks.com/hindi/virgo.action</td>\n",
       "      <td>NaN</td>\n",
       "      <td>à¤•à¤¨à¥�à¤¯à¤¾</td>\n",
       "    </tr>\n",
       "    <tr>\n",
       "      <th>5807209</th>\n",
       "      <td>3667196</td>\n",
       "      <td>M</td>\n",
       "      <td>http://www.ganeshaspeaks.com/hindi/capricorn.a...</td>\n",
       "      <td>NaN</td>\n",
       "      <td>à¤®à¤•à¤°</td>\n",
       "    </tr>\n",
       "    <tr>\n",
       "      <th>5807212</th>\n",
       "      <td>3667196</td>\n",
       "      <td>M</td>\n",
       "      <td>http://www.ganeshaspeaks.com/hindi/aquarius.ac...</td>\n",
       "      <td>NaN</td>\n",
       "      <td>à¤•à¥�à¤‚à¤­</td>\n",
       "    </tr>\n",
       "    <tr>\n",
       "      <th>5807214</th>\n",
       "      <td>3667196</td>\n",
       "      <td>M</td>\n",
       "      <td>http://www.ganeshaspeaks.com/hindi/sagittarius...</td>\n",
       "      <td>NaN</td>\n",
       "      <td>à¤§à¤¨à¥�</td>\n",
       "    </tr>\n",
       "    <tr>\n",
       "      <th>5807223</th>\n",
       "      <td>3667196</td>\n",
       "      <td>M</td>\n",
       "      <td>http://www.ganeshaspeaks.com/hindi/leo.action</td>\n",
       "      <td>NaN</td>\n",
       "      <td>à¤¸à¤¿à¤‚à¤¹</td>\n",
       "    </tr>\n",
       "    <tr>\n",
       "      <th>5807225</th>\n",
       "      <td>3667196</td>\n",
       "      <td>M</td>\n",
       "      <td>http://www.ganeshaspeaks.com/hindi/scorpio.action</td>\n",
       "      <td>NaN</td>\n",
       "      <td>à¤µà¥ƒà¤¶à¥�à¤šà¤¿à¤•</td>\n",
       "    </tr>\n",
       "    <tr>\n",
       "      <th>5807273</th>\n",
       "      <td>3667196</td>\n",
       "      <td>M</td>\n",
       "      <td>http://livenewsxpress.com/190711/</td>\n",
       "      <td>NaN</td>\n",
       "      <td>à¤¦à¥�à¤¨à¤¿à¤¯à¤¾ à¤­à¤° à¤•à¥‡ à¤•à¤ˆ à¤¸à¤°...</td>\n",
       "    </tr>\n",
       "    <tr>\n",
       "      <th>5812252</th>\n",
       "      <td>4027872</td>\n",
       "      <td>M</td>\n",
       "      <td>http://poorvanchalmedia.com/187687/</td>\n",
       "      <td>NaN</td>\n",
       "      <td>à¤›à¤¾à¤¤à¥€ à¤šà¥Œà¤¡à¤¼à¥€ à¤•à¤°à¤¨à¥‡ à¤•à...</td>\n",
       "    </tr>\n",
       "    <tr>\n",
       "      <th>5813227</th>\n",
       "      <td>4108576</td>\n",
       "      <td>M</td>\n",
       "      <td>http://timesofindia.indiatimes.com/videos/trai...</td>\n",
       "      <td>NaN</td>\n",
       "      <td>Ee Nagaraniki Emaindi - The Making</td>\n",
       "    </tr>\n",
       "    <tr>\n",
       "      <th>5813228</th>\n",
       "      <td>4715418</td>\n",
       "      <td>M</td>\n",
       "      <td>http://timesofindia.indiatimes.com/videos/trai...</td>\n",
       "      <td>NaN</td>\n",
       "      <td>Ee Nagaraniki Emaindi - The Making</td>\n",
       "    </tr>\n",
       "    <tr>\n",
       "      <th>5813229</th>\n",
       "      <td>4108576</td>\n",
       "      <td>M</td>\n",
       "      <td>http://timesofindia.indiatimes.com/videos/trai...</td>\n",
       "      <td>NaN</td>\n",
       "      <td>Huttada Sutta - Official Trailer</td>\n",
       "    </tr>\n",
       "    <tr>\n",
       "      <th>5813264</th>\n",
       "      <td>4111267</td>\n",
       "      <td>F</td>\n",
       "      <td>http://hindustankhabar.com/353888/</td>\n",
       "      <td>NaN</td>\n",
       "      <td>à¤¸à¥‡à¤•à¥�à¤¸ à¤¦à¥‹ à¤²à¥‹à¤—à¥‹à¤‚ à¤•à¥‡ ...</td>\n",
       "    </tr>\n",
       "    <tr>\n",
       "      <th>5813560</th>\n",
       "      <td>4133862</td>\n",
       "      <td>M</td>\n",
       "      <td>https://www.rozanaspokesman.in/</td>\n",
       "      <td>NaN</td>\n",
       "      <td>à¨—à©€à¨¤à¨¾à¨‚ 'à¨š 'à¨¯à¨¾à¨° à¨…à¨¨à¨®à©�à¨...</td>\n",
       "    </tr>\n",
       "    <tr>\n",
       "      <th>5813566</th>\n",
       "      <td>4548720</td>\n",
       "      <td>M</td>\n",
       "      <td>https://www.rozanaspokesman.in/</td>\n",
       "      <td>NaN</td>\n",
       "      <td>à¨—à©€à¨¤à¨¾à¨‚ 'à¨š 'à¨¯à¨¾à¨° à¨…à¨¨à¨®à©�à¨...</td>\n",
       "    </tr>\n",
       "    <tr>\n",
       "      <th>5813644</th>\n",
       "      <td>4140534</td>\n",
       "      <td>M</td>\n",
       "      <td>https://www.ganeshaspeaks.com/zodiac-signs/leo/</td>\n",
       "      <td>NaN</td>\n",
       "      <td>Leo</td>\n",
       "    </tr>\n",
       "    <tr>\n",
       "      <th>5813645</th>\n",
       "      <td>4816461</td>\n",
       "      <td>M</td>\n",
       "      <td>https://www.ganeshaspeaks.com/zodiac-signs/leo/</td>\n",
       "      <td>NaN</td>\n",
       "      <td>Leo</td>\n",
       "    </tr>\n",
       "    <tr>\n",
       "      <th>5816161</th>\n",
       "      <td>4398550</td>\n",
       "      <td>M</td>\n",
       "      <td>http://timesofindia.indiatimes.com/videos/cele...</td>\n",
       "      <td>NaN</td>\n",
       "      <td>Bharti Singh ties the knot with Haarsh Limbach...</td>\n",
       "    </tr>\n",
       "    <tr>\n",
       "      <th>5819976</th>\n",
       "      <td>4816461</td>\n",
       "      <td>M</td>\n",
       "      <td>https://www.ganeshaspeaks.com/zodiac-signs/gem...</td>\n",
       "      <td>NaN</td>\n",
       "      <td>Gemini</td>\n",
       "    </tr>\n",
       "    <tr>\n",
       "      <th>5819978</th>\n",
       "      <td>4816461</td>\n",
       "      <td>M</td>\n",
       "      <td>https://www.ganeshaspeaks.com/zodiac-signs/aries/</td>\n",
       "      <td>NaN</td>\n",
       "      <td>Aries</td>\n",
       "    </tr>\n",
       "    <tr>\n",
       "      <th>5819980</th>\n",
       "      <td>4816461</td>\n",
       "      <td>M</td>\n",
       "      <td>https://www.ganeshaspeaks.com/zodiac-signs/virgo/</td>\n",
       "      <td>NaN</td>\n",
       "      <td>Virgo</td>\n",
       "    </tr>\n",
       "    <tr>\n",
       "      <th>5819982</th>\n",
       "      <td>4816461</td>\n",
       "      <td>M</td>\n",
       "      <td>https://www.ganeshaspeaks.com/zodiac-signs/pis...</td>\n",
       "      <td>NaN</td>\n",
       "      <td>Pisces</td>\n",
       "    </tr>\n",
       "    <tr>\n",
       "      <th>5819984</th>\n",
       "      <td>4816461</td>\n",
       "      <td>M</td>\n",
       "      <td>https://www.ganeshaspeaks.com/zodiac-signs/libra/</td>\n",
       "      <td>NaN</td>\n",
       "      <td>Libra</td>\n",
       "    </tr>\n",
       "    <tr>\n",
       "      <th>5819986</th>\n",
       "      <td>4816461</td>\n",
       "      <td>M</td>\n",
       "      <td>https://www.ganeshaspeaks.com/zodiac-signs/aqu...</td>\n",
       "      <td>NaN</td>\n",
       "      <td>Aquarius</td>\n",
       "    </tr>\n",
       "  </tbody>\n",
       "</table>\n",
       "<p>757 rows × 5 columns</p>\n",
       "</div>"
      ],
      "text/plain": [
       "          userid gender                                                url  \\\n",
       "4484347  1529670      M  http://www.breakingbangla.com/2018/09/blog-pos...   \n",
       "4484348  1551628      M  http://www.breakingbangla.com/2018/09/blog-pos...   \n",
       "4484349  1576824      M  http://www.breakingbangla.com/2018/09/blog-pos...   \n",
       "4484350  1618014      M  http://www.breakingbangla.com/2018/09/blog-pos...   \n",
       "4484351  1659886      M  http://www.breakingbangla.com/2018/09/blog-pos...   \n",
       "...          ...    ...                                                ...   \n",
       "5819978  4816461      M  https://www.ganeshaspeaks.com/zodiac-signs/aries/   \n",
       "5819980  4816461      M  https://www.ganeshaspeaks.com/zodiac-signs/virgo/   \n",
       "5819982  4816461      M  https://www.ganeshaspeaks.com/zodiac-signs/pis...   \n",
       "5819984  4816461      M  https://www.ganeshaspeaks.com/zodiac-signs/libra/   \n",
       "5819986  4816461      M  https://www.ganeshaspeaks.com/zodiac-signs/aqu...   \n",
       "\n",
       "        brand                                              title  \n",
       "4484347   NaN  à¦¯à§Œà¦¨ à¦¸à¦™à§�à¦—à¦® à¦›à¦¾à¦¡à¦¼à¦¾à¦“ à...  \n",
       "4484348   NaN  à¦¯à§Œà¦¨ à¦¸à¦™à§�à¦—à¦® à¦›à¦¾à¦¡à¦¼à¦¾à¦“ à...  \n",
       "4484349   NaN  à¦¯à§Œà¦¨ à¦¸à¦™à§�à¦—à¦® à¦›à¦¾à¦¡à¦¼à¦¾à¦“ à...  \n",
       "4484350   NaN  à¦¯à§Œà¦¨ à¦¸à¦™à§�à¦—à¦® à¦›à¦¾à¦¡à¦¼à¦¾à¦“ à...  \n",
       "4484351   NaN  à¦¯à§Œà¦¨ à¦¸à¦™à§�à¦—à¦® à¦›à¦¾à¦¡à¦¼à¦¾à¦“ à...  \n",
       "...       ...                                                ...  \n",
       "5819978   NaN                                              Aries  \n",
       "5819980   NaN                                              Virgo  \n",
       "5819982   NaN                                             Pisces  \n",
       "5819984   NaN                                              Libra  \n",
       "5819986   NaN                                           Aquarius  \n",
       "\n",
       "[757 rows x 5 columns]"
      ]
     },
     "execution_count": 570,
     "metadata": {},
     "output_type": "execute_result"
    }
   ],
   "source": [
    "df_f[df_f['brand'].isnull()]"
   ]
  },
  {
   "cell_type": "code",
   "execution_count": 571,
   "metadata": {},
   "outputs": [],
   "source": [
    "def remove_http(s):\n",
    "    s = s.split(\"//\")\n",
    "#     s = s[1]\n",
    "    \n",
    "    return s[1]\n",
    "\n",
    "def middle_level_domain(s):\n",
    "    s = s.split(\".\")\n",
    "    l = len(s)\n",
    "    if(s[0] == 'www' or s[0] == 'm'):\n",
    "        return s[1]\n",
    "    elif s[l-2] == 'com':\n",
    "        return s[0]\n",
    "    else:\n",
    "        return s[1]\n",
    "    \n",
    "def high_level_url(s):\n",
    "    s = s.split(\"/\")\n",
    "    return s[0]\n",
    "\n",
    "def brand_name(s):\n",
    "    s = s.split(\".\")\n",
    "    if s[0] == 'www':\n",
    "        return s[1]\n",
    "    else:\n",
    "        return s[0]"
   ]
  },
  {
   "cell_type": "code",
   "execution_count": 572,
   "metadata": {},
   "outputs": [],
   "source": [
    "df_f['url'] = df_f['url'].apply(remove_http)"
   ]
  },
  {
   "cell_type": "code",
   "execution_count": 573,
   "metadata": {},
   "outputs": [
    {
     "data": {
      "text/html": [
       "<div>\n",
       "<style scoped>\n",
       "    .dataframe tbody tr th:only-of-type {\n",
       "        vertical-align: middle;\n",
       "    }\n",
       "\n",
       "    .dataframe tbody tr th {\n",
       "        vertical-align: top;\n",
       "    }\n",
       "\n",
       "    .dataframe thead th {\n",
       "        text-align: right;\n",
       "    }\n",
       "</style>\n",
       "<table border=\"1\" class=\"dataframe\">\n",
       "  <thead>\n",
       "    <tr style=\"text-align: right;\">\n",
       "      <th></th>\n",
       "      <th>userid</th>\n",
       "      <th>gender</th>\n",
       "      <th>url</th>\n",
       "      <th>brand</th>\n",
       "      <th>title</th>\n",
       "    </tr>\n",
       "  </thead>\n",
       "  <tbody>\n",
       "    <tr>\n",
       "      <th>0</th>\n",
       "      <td>1521071</td>\n",
       "      <td>M</td>\n",
       "      <td>timesofindia.indiatimes.com/</td>\n",
       "      <td>TIMES OF INDIA</td>\n",
       "      <td>India News, Latest Sports, Bollywood, World,</td>\n",
       "    </tr>\n",
       "    <tr>\n",
       "      <th>24</th>\n",
       "      <td>1521083</td>\n",
       "      <td>M</td>\n",
       "      <td>timesofindia.indiatimes.com/</td>\n",
       "      <td>TIMES OF INDIA</td>\n",
       "      <td>India News, Latest Sports, Bollywood, World,</td>\n",
       "    </tr>\n",
       "    <tr>\n",
       "      <th>48</th>\n",
       "      <td>1521121</td>\n",
       "      <td>M</td>\n",
       "      <td>timesofindia.indiatimes.com/</td>\n",
       "      <td>TIMES OF INDIA</td>\n",
       "      <td>India News, Latest Sports, Bollywood, World,</td>\n",
       "    </tr>\n",
       "    <tr>\n",
       "      <th>72</th>\n",
       "      <td>1521130</td>\n",
       "      <td>M</td>\n",
       "      <td>timesofindia.indiatimes.com/</td>\n",
       "      <td>TIMES OF INDIA</td>\n",
       "      <td>India News, Latest Sports, Bollywood, World,</td>\n",
       "    </tr>\n",
       "    <tr>\n",
       "      <th>96</th>\n",
       "      <td>1521159</td>\n",
       "      <td>F</td>\n",
       "      <td>timesofindia.indiatimes.com/</td>\n",
       "      <td>TIMES OF INDIA</td>\n",
       "      <td>India News, Latest Sports, Bollywood, World,</td>\n",
       "    </tr>\n",
       "  </tbody>\n",
       "</table>\n",
       "</div>"
      ],
      "text/plain": [
       "     userid gender                           url           brand  \\\n",
       "0   1521071      M  timesofindia.indiatimes.com/  TIMES OF INDIA   \n",
       "24  1521083      M  timesofindia.indiatimes.com/  TIMES OF INDIA   \n",
       "48  1521121      M  timesofindia.indiatimes.com/  TIMES OF INDIA   \n",
       "72  1521130      M  timesofindia.indiatimes.com/  TIMES OF INDIA   \n",
       "96  1521159      F  timesofindia.indiatimes.com/  TIMES OF INDIA   \n",
       "\n",
       "                                           title  \n",
       "0   India News, Latest Sports, Bollywood, World,  \n",
       "24  India News, Latest Sports, Bollywood, World,  \n",
       "48  India News, Latest Sports, Bollywood, World,  \n",
       "72  India News, Latest Sports, Bollywood, World,  \n",
       "96  India News, Latest Sports, Bollywood, World,  "
      ]
     },
     "execution_count": 573,
     "metadata": {},
     "output_type": "execute_result"
    }
   ],
   "source": [
    "df_f.head()"
   ]
  },
  {
   "cell_type": "code",
   "execution_count": 574,
   "metadata": {},
   "outputs": [],
   "source": [
    "df_f['high_domain'] = df_f['url'].apply(high_level_url)"
   ]
  },
  {
   "cell_type": "code",
   "execution_count": 575,
   "metadata": {},
   "outputs": [
    {
     "data": {
      "text/html": [
       "<div>\n",
       "<style scoped>\n",
       "    .dataframe tbody tr th:only-of-type {\n",
       "        vertical-align: middle;\n",
       "    }\n",
       "\n",
       "    .dataframe tbody tr th {\n",
       "        vertical-align: top;\n",
       "    }\n",
       "\n",
       "    .dataframe thead th {\n",
       "        text-align: right;\n",
       "    }\n",
       "</style>\n",
       "<table border=\"1\" class=\"dataframe\">\n",
       "  <thead>\n",
       "    <tr style=\"text-align: right;\">\n",
       "      <th></th>\n",
       "      <th>userid</th>\n",
       "      <th>gender</th>\n",
       "      <th>url</th>\n",
       "      <th>brand</th>\n",
       "      <th>title</th>\n",
       "      <th>high_domain</th>\n",
       "    </tr>\n",
       "  </thead>\n",
       "  <tbody>\n",
       "    <tr>\n",
       "      <th>0</th>\n",
       "      <td>1521071</td>\n",
       "      <td>M</td>\n",
       "      <td>timesofindia.indiatimes.com/</td>\n",
       "      <td>TIMES OF INDIA</td>\n",
       "      <td>India News, Latest Sports, Bollywood, World,</td>\n",
       "      <td>timesofindia.indiatimes.com</td>\n",
       "    </tr>\n",
       "    <tr>\n",
       "      <th>24</th>\n",
       "      <td>1521083</td>\n",
       "      <td>M</td>\n",
       "      <td>timesofindia.indiatimes.com/</td>\n",
       "      <td>TIMES OF INDIA</td>\n",
       "      <td>India News, Latest Sports, Bollywood, World,</td>\n",
       "      <td>timesofindia.indiatimes.com</td>\n",
       "    </tr>\n",
       "    <tr>\n",
       "      <th>48</th>\n",
       "      <td>1521121</td>\n",
       "      <td>M</td>\n",
       "      <td>timesofindia.indiatimes.com/</td>\n",
       "      <td>TIMES OF INDIA</td>\n",
       "      <td>India News, Latest Sports, Bollywood, World,</td>\n",
       "      <td>timesofindia.indiatimes.com</td>\n",
       "    </tr>\n",
       "    <tr>\n",
       "      <th>72</th>\n",
       "      <td>1521130</td>\n",
       "      <td>M</td>\n",
       "      <td>timesofindia.indiatimes.com/</td>\n",
       "      <td>TIMES OF INDIA</td>\n",
       "      <td>India News, Latest Sports, Bollywood, World,</td>\n",
       "      <td>timesofindia.indiatimes.com</td>\n",
       "    </tr>\n",
       "    <tr>\n",
       "      <th>96</th>\n",
       "      <td>1521159</td>\n",
       "      <td>F</td>\n",
       "      <td>timesofindia.indiatimes.com/</td>\n",
       "      <td>TIMES OF INDIA</td>\n",
       "      <td>India News, Latest Sports, Bollywood, World,</td>\n",
       "      <td>timesofindia.indiatimes.com</td>\n",
       "    </tr>\n",
       "  </tbody>\n",
       "</table>\n",
       "</div>"
      ],
      "text/plain": [
       "     userid gender                           url           brand  \\\n",
       "0   1521071      M  timesofindia.indiatimes.com/  TIMES OF INDIA   \n",
       "24  1521083      M  timesofindia.indiatimes.com/  TIMES OF INDIA   \n",
       "48  1521121      M  timesofindia.indiatimes.com/  TIMES OF INDIA   \n",
       "72  1521130      M  timesofindia.indiatimes.com/  TIMES OF INDIA   \n",
       "96  1521159      F  timesofindia.indiatimes.com/  TIMES OF INDIA   \n",
       "\n",
       "                                           title                  high_domain  \n",
       "0   India News, Latest Sports, Bollywood, World,  timesofindia.indiatimes.com  \n",
       "24  India News, Latest Sports, Bollywood, World,  timesofindia.indiatimes.com  \n",
       "48  India News, Latest Sports, Bollywood, World,  timesofindia.indiatimes.com  \n",
       "72  India News, Latest Sports, Bollywood, World,  timesofindia.indiatimes.com  \n",
       "96  India News, Latest Sports, Bollywood, World,  timesofindia.indiatimes.com  "
      ]
     },
     "execution_count": 575,
     "metadata": {},
     "output_type": "execute_result"
    }
   ],
   "source": [
    "df_f.head()"
   ]
  },
  {
   "cell_type": "code",
   "execution_count": 576,
   "metadata": {},
   "outputs": [],
   "source": [
    "df_f['middle_domain'] = df_f['high_domain'].apply(middle_level_domain)"
   ]
  },
  {
   "cell_type": "code",
   "execution_count": 577,
   "metadata": {},
   "outputs": [
    {
     "data": {
      "text/html": [
       "<div>\n",
       "<style scoped>\n",
       "    .dataframe tbody tr th:only-of-type {\n",
       "        vertical-align: middle;\n",
       "    }\n",
       "\n",
       "    .dataframe tbody tr th {\n",
       "        vertical-align: top;\n",
       "    }\n",
       "\n",
       "    .dataframe thead th {\n",
       "        text-align: right;\n",
       "    }\n",
       "</style>\n",
       "<table border=\"1\" class=\"dataframe\">\n",
       "  <thead>\n",
       "    <tr style=\"text-align: right;\">\n",
       "      <th></th>\n",
       "      <th>userid</th>\n",
       "      <th>gender</th>\n",
       "      <th>url</th>\n",
       "      <th>brand</th>\n",
       "      <th>title</th>\n",
       "      <th>high_domain</th>\n",
       "      <th>middle_domain</th>\n",
       "    </tr>\n",
       "  </thead>\n",
       "  <tbody>\n",
       "    <tr>\n",
       "      <th>0</th>\n",
       "      <td>1521071</td>\n",
       "      <td>M</td>\n",
       "      <td>timesofindia.indiatimes.com/</td>\n",
       "      <td>TIMES OF INDIA</td>\n",
       "      <td>India News, Latest Sports, Bollywood, World,</td>\n",
       "      <td>timesofindia.indiatimes.com</td>\n",
       "      <td>indiatimes</td>\n",
       "    </tr>\n",
       "    <tr>\n",
       "      <th>24</th>\n",
       "      <td>1521083</td>\n",
       "      <td>M</td>\n",
       "      <td>timesofindia.indiatimes.com/</td>\n",
       "      <td>TIMES OF INDIA</td>\n",
       "      <td>India News, Latest Sports, Bollywood, World,</td>\n",
       "      <td>timesofindia.indiatimes.com</td>\n",
       "      <td>indiatimes</td>\n",
       "    </tr>\n",
       "    <tr>\n",
       "      <th>48</th>\n",
       "      <td>1521121</td>\n",
       "      <td>M</td>\n",
       "      <td>timesofindia.indiatimes.com/</td>\n",
       "      <td>TIMES OF INDIA</td>\n",
       "      <td>India News, Latest Sports, Bollywood, World,</td>\n",
       "      <td>timesofindia.indiatimes.com</td>\n",
       "      <td>indiatimes</td>\n",
       "    </tr>\n",
       "    <tr>\n",
       "      <th>72</th>\n",
       "      <td>1521130</td>\n",
       "      <td>M</td>\n",
       "      <td>timesofindia.indiatimes.com/</td>\n",
       "      <td>TIMES OF INDIA</td>\n",
       "      <td>India News, Latest Sports, Bollywood, World,</td>\n",
       "      <td>timesofindia.indiatimes.com</td>\n",
       "      <td>indiatimes</td>\n",
       "    </tr>\n",
       "    <tr>\n",
       "      <th>96</th>\n",
       "      <td>1521159</td>\n",
       "      <td>F</td>\n",
       "      <td>timesofindia.indiatimes.com/</td>\n",
       "      <td>TIMES OF INDIA</td>\n",
       "      <td>India News, Latest Sports, Bollywood, World,</td>\n",
       "      <td>timesofindia.indiatimes.com</td>\n",
       "      <td>indiatimes</td>\n",
       "    </tr>\n",
       "  </tbody>\n",
       "</table>\n",
       "</div>"
      ],
      "text/plain": [
       "     userid gender                           url           brand  \\\n",
       "0   1521071      M  timesofindia.indiatimes.com/  TIMES OF INDIA   \n",
       "24  1521083      M  timesofindia.indiatimes.com/  TIMES OF INDIA   \n",
       "48  1521121      M  timesofindia.indiatimes.com/  TIMES OF INDIA   \n",
       "72  1521130      M  timesofindia.indiatimes.com/  TIMES OF INDIA   \n",
       "96  1521159      F  timesofindia.indiatimes.com/  TIMES OF INDIA   \n",
       "\n",
       "                                           title                  high_domain  \\\n",
       "0   India News, Latest Sports, Bollywood, World,  timesofindia.indiatimes.com   \n",
       "24  India News, Latest Sports, Bollywood, World,  timesofindia.indiatimes.com   \n",
       "48  India News, Latest Sports, Bollywood, World,  timesofindia.indiatimes.com   \n",
       "72  India News, Latest Sports, Bollywood, World,  timesofindia.indiatimes.com   \n",
       "96  India News, Latest Sports, Bollywood, World,  timesofindia.indiatimes.com   \n",
       "\n",
       "   middle_domain  \n",
       "0     indiatimes  \n",
       "24    indiatimes  \n",
       "48    indiatimes  \n",
       "72    indiatimes  \n",
       "96    indiatimes  "
      ]
     },
     "execution_count": 577,
     "metadata": {},
     "output_type": "execute_result"
    }
   ],
   "source": [
    "df_f.head()"
   ]
  },
  {
   "cell_type": "code",
   "execution_count": 578,
   "metadata": {},
   "outputs": [],
   "source": [
    "# df_f['middle_domain'].unique()"
   ]
  },
  {
   "cell_type": "code",
   "execution_count": 579,
   "metadata": {},
   "outputs": [],
   "source": [
    "df_f['new_brand'] = df_f['high_domain'].apply(brand_name)"
   ]
  },
  {
   "cell_type": "code",
   "execution_count": 580,
   "metadata": {},
   "outputs": [
    {
     "data": {
      "text/html": [
       "<div>\n",
       "<style scoped>\n",
       "    .dataframe tbody tr th:only-of-type {\n",
       "        vertical-align: middle;\n",
       "    }\n",
       "\n",
       "    .dataframe tbody tr th {\n",
       "        vertical-align: top;\n",
       "    }\n",
       "\n",
       "    .dataframe thead th {\n",
       "        text-align: right;\n",
       "    }\n",
       "</style>\n",
       "<table border=\"1\" class=\"dataframe\">\n",
       "  <thead>\n",
       "    <tr style=\"text-align: right;\">\n",
       "      <th></th>\n",
       "      <th>userid</th>\n",
       "      <th>gender</th>\n",
       "      <th>url</th>\n",
       "      <th>brand</th>\n",
       "      <th>title</th>\n",
       "      <th>high_domain</th>\n",
       "      <th>middle_domain</th>\n",
       "      <th>new_brand</th>\n",
       "    </tr>\n",
       "  </thead>\n",
       "  <tbody>\n",
       "    <tr>\n",
       "      <th>0</th>\n",
       "      <td>1521071</td>\n",
       "      <td>M</td>\n",
       "      <td>timesofindia.indiatimes.com/</td>\n",
       "      <td>TIMES OF INDIA</td>\n",
       "      <td>India News, Latest Sports, Bollywood, World,</td>\n",
       "      <td>timesofindia.indiatimes.com</td>\n",
       "      <td>indiatimes</td>\n",
       "      <td>timesofindia</td>\n",
       "    </tr>\n",
       "    <tr>\n",
       "      <th>24</th>\n",
       "      <td>1521083</td>\n",
       "      <td>M</td>\n",
       "      <td>timesofindia.indiatimes.com/</td>\n",
       "      <td>TIMES OF INDIA</td>\n",
       "      <td>India News, Latest Sports, Bollywood, World,</td>\n",
       "      <td>timesofindia.indiatimes.com</td>\n",
       "      <td>indiatimes</td>\n",
       "      <td>timesofindia</td>\n",
       "    </tr>\n",
       "    <tr>\n",
       "      <th>48</th>\n",
       "      <td>1521121</td>\n",
       "      <td>M</td>\n",
       "      <td>timesofindia.indiatimes.com/</td>\n",
       "      <td>TIMES OF INDIA</td>\n",
       "      <td>India News, Latest Sports, Bollywood, World,</td>\n",
       "      <td>timesofindia.indiatimes.com</td>\n",
       "      <td>indiatimes</td>\n",
       "      <td>timesofindia</td>\n",
       "    </tr>\n",
       "    <tr>\n",
       "      <th>72</th>\n",
       "      <td>1521130</td>\n",
       "      <td>M</td>\n",
       "      <td>timesofindia.indiatimes.com/</td>\n",
       "      <td>TIMES OF INDIA</td>\n",
       "      <td>India News, Latest Sports, Bollywood, World,</td>\n",
       "      <td>timesofindia.indiatimes.com</td>\n",
       "      <td>indiatimes</td>\n",
       "      <td>timesofindia</td>\n",
       "    </tr>\n",
       "    <tr>\n",
       "      <th>96</th>\n",
       "      <td>1521159</td>\n",
       "      <td>F</td>\n",
       "      <td>timesofindia.indiatimes.com/</td>\n",
       "      <td>TIMES OF INDIA</td>\n",
       "      <td>India News, Latest Sports, Bollywood, World,</td>\n",
       "      <td>timesofindia.indiatimes.com</td>\n",
       "      <td>indiatimes</td>\n",
       "      <td>timesofindia</td>\n",
       "    </tr>\n",
       "  </tbody>\n",
       "</table>\n",
       "</div>"
      ],
      "text/plain": [
       "     userid gender                           url           brand  \\\n",
       "0   1521071      M  timesofindia.indiatimes.com/  TIMES OF INDIA   \n",
       "24  1521083      M  timesofindia.indiatimes.com/  TIMES OF INDIA   \n",
       "48  1521121      M  timesofindia.indiatimes.com/  TIMES OF INDIA   \n",
       "72  1521130      M  timesofindia.indiatimes.com/  TIMES OF INDIA   \n",
       "96  1521159      F  timesofindia.indiatimes.com/  TIMES OF INDIA   \n",
       "\n",
       "                                           title                  high_domain  \\\n",
       "0   India News, Latest Sports, Bollywood, World,  timesofindia.indiatimes.com   \n",
       "24  India News, Latest Sports, Bollywood, World,  timesofindia.indiatimes.com   \n",
       "48  India News, Latest Sports, Bollywood, World,  timesofindia.indiatimes.com   \n",
       "72  India News, Latest Sports, Bollywood, World,  timesofindia.indiatimes.com   \n",
       "96  India News, Latest Sports, Bollywood, World,  timesofindia.indiatimes.com   \n",
       "\n",
       "   middle_domain     new_brand  \n",
       "0     indiatimes  timesofindia  \n",
       "24    indiatimes  timesofindia  \n",
       "48    indiatimes  timesofindia  \n",
       "72    indiatimes  timesofindia  \n",
       "96    indiatimes  timesofindia  "
      ]
     },
     "execution_count": 580,
     "metadata": {},
     "output_type": "execute_result"
    }
   ],
   "source": [
    "df_f.head()"
   ]
  },
  {
   "cell_type": "code",
   "execution_count": 581,
   "metadata": {},
   "outputs": [],
   "source": [
    "# df_f['brand'].unique()"
   ]
  },
  {
   "cell_type": "code",
   "execution_count": 582,
   "metadata": {},
   "outputs": [],
   "source": [
    "# df_f['new_brand'].unique()"
   ]
  },
  {
   "cell_type": "code",
   "execution_count": 583,
   "metadata": {},
   "outputs": [
    {
     "data": {
      "text/plain": [
       "userid             0\n",
       "gender             0\n",
       "url                0\n",
       "brand            757\n",
       "title              0\n",
       "high_domain        0\n",
       "middle_domain      0\n",
       "new_brand          0\n",
       "dtype: int64"
      ]
     },
     "execution_count": 583,
     "metadata": {},
     "output_type": "execute_result"
    }
   ],
   "source": [
    "df_f.isnull().sum()"
   ]
  },
  {
   "cell_type": "code",
   "execution_count": 584,
   "metadata": {},
   "outputs": [],
   "source": [
    "df_f.drop(['brand', 'high_domain'], inplace = True, axis=1)"
   ]
  },
  {
   "cell_type": "code",
   "execution_count": 585,
   "metadata": {},
   "outputs": [
    {
     "data": {
      "text/html": [
       "<div>\n",
       "<style scoped>\n",
       "    .dataframe tbody tr th:only-of-type {\n",
       "        vertical-align: middle;\n",
       "    }\n",
       "\n",
       "    .dataframe tbody tr th {\n",
       "        vertical-align: top;\n",
       "    }\n",
       "\n",
       "    .dataframe thead th {\n",
       "        text-align: right;\n",
       "    }\n",
       "</style>\n",
       "<table border=\"1\" class=\"dataframe\">\n",
       "  <thead>\n",
       "    <tr style=\"text-align: right;\">\n",
       "      <th></th>\n",
       "      <th>userid</th>\n",
       "      <th>gender</th>\n",
       "      <th>url</th>\n",
       "      <th>title</th>\n",
       "      <th>middle_domain</th>\n",
       "      <th>new_brand</th>\n",
       "    </tr>\n",
       "  </thead>\n",
       "  <tbody>\n",
       "    <tr>\n",
       "      <th>0</th>\n",
       "      <td>1521071</td>\n",
       "      <td>M</td>\n",
       "      <td>timesofindia.indiatimes.com/</td>\n",
       "      <td>India News, Latest Sports, Bollywood, World,</td>\n",
       "      <td>indiatimes</td>\n",
       "      <td>timesofindia</td>\n",
       "    </tr>\n",
       "    <tr>\n",
       "      <th>24</th>\n",
       "      <td>1521083</td>\n",
       "      <td>M</td>\n",
       "      <td>timesofindia.indiatimes.com/</td>\n",
       "      <td>India News, Latest Sports, Bollywood, World,</td>\n",
       "      <td>indiatimes</td>\n",
       "      <td>timesofindia</td>\n",
       "    </tr>\n",
       "    <tr>\n",
       "      <th>48</th>\n",
       "      <td>1521121</td>\n",
       "      <td>M</td>\n",
       "      <td>timesofindia.indiatimes.com/</td>\n",
       "      <td>India News, Latest Sports, Bollywood, World,</td>\n",
       "      <td>indiatimes</td>\n",
       "      <td>timesofindia</td>\n",
       "    </tr>\n",
       "    <tr>\n",
       "      <th>72</th>\n",
       "      <td>1521130</td>\n",
       "      <td>M</td>\n",
       "      <td>timesofindia.indiatimes.com/</td>\n",
       "      <td>India News, Latest Sports, Bollywood, World,</td>\n",
       "      <td>indiatimes</td>\n",
       "      <td>timesofindia</td>\n",
       "    </tr>\n",
       "    <tr>\n",
       "      <th>96</th>\n",
       "      <td>1521159</td>\n",
       "      <td>F</td>\n",
       "      <td>timesofindia.indiatimes.com/</td>\n",
       "      <td>India News, Latest Sports, Bollywood, World,</td>\n",
       "      <td>indiatimes</td>\n",
       "      <td>timesofindia</td>\n",
       "    </tr>\n",
       "  </tbody>\n",
       "</table>\n",
       "</div>"
      ],
      "text/plain": [
       "     userid gender                           url  \\\n",
       "0   1521071      M  timesofindia.indiatimes.com/   \n",
       "24  1521083      M  timesofindia.indiatimes.com/   \n",
       "48  1521121      M  timesofindia.indiatimes.com/   \n",
       "72  1521130      M  timesofindia.indiatimes.com/   \n",
       "96  1521159      F  timesofindia.indiatimes.com/   \n",
       "\n",
       "                                           title middle_domain     new_brand  \n",
       "0   India News, Latest Sports, Bollywood, World,    indiatimes  timesofindia  \n",
       "24  India News, Latest Sports, Bollywood, World,    indiatimes  timesofindia  \n",
       "48  India News, Latest Sports, Bollywood, World,    indiatimes  timesofindia  \n",
       "72  India News, Latest Sports, Bollywood, World,    indiatimes  timesofindia  \n",
       "96  India News, Latest Sports, Bollywood, World,    indiatimes  timesofindia  "
      ]
     },
     "execution_count": 585,
     "metadata": {},
     "output_type": "execute_result"
    }
   ],
   "source": [
    "df_f.head()"
   ]
  },
  {
   "cell_type": "code",
   "execution_count": null,
   "metadata": {},
   "outputs": [],
   "source": []
  },
  {
   "cell_type": "code",
   "execution_count": 586,
   "metadata": {},
   "outputs": [
    {
     "data": {
      "text/plain": [
       "array(['India News, Latest Sports, Bollywood, World,',\n",
       "       'IDBI Bank to sell bad loans, including RComâ€™s',\n",
       "       'Home-hosting to find new friends', ...,\n",
       "       \"Kalank of theft will end your happiness: Rajasthan Police's Alia Bhatt meme gets a thumbs up from Varun Dhawan\",\n",
       "       \"Five years that turned India's concept of news on its headÂ\\xa0 Â\\xa0 Â\\xa0\",\n",
       "       'Crumbling FOBs at Charbagh: Mumbai-like tragedy in waiting?'],\n",
       "      dtype=object)"
      ]
     },
     "execution_count": 586,
     "metadata": {},
     "output_type": "execute_result"
    }
   ],
   "source": [
    "df_f['title'].unique()"
   ]
  },
  {
   "cell_type": "code",
   "execution_count": 587,
   "metadata": {},
   "outputs": [],
   "source": [
    "from sklearn.preprocessing import LabelEncoder"
   ]
  },
  {
   "cell_type": "code",
   "execution_count": 588,
   "metadata": {},
   "outputs": [],
   "source": [
    "df = df_f.copy()"
   ]
  },
  {
   "cell_type": "code",
   "execution_count": 589,
   "metadata": {},
   "outputs": [],
   "source": [
    "df = df.reset_index()"
   ]
  },
  {
   "cell_type": "code",
   "execution_count": 593,
   "metadata": {},
   "outputs": [],
   "source": [
    "df = df.drop(['index'], axis=1)"
   ]
  },
  {
   "cell_type": "code",
   "execution_count": 594,
   "metadata": {},
   "outputs": [
    {
     "data": {
      "text/html": [
       "<div>\n",
       "<style scoped>\n",
       "    .dataframe tbody tr th:only-of-type {\n",
       "        vertical-align: middle;\n",
       "    }\n",
       "\n",
       "    .dataframe tbody tr th {\n",
       "        vertical-align: top;\n",
       "    }\n",
       "\n",
       "    .dataframe thead th {\n",
       "        text-align: right;\n",
       "    }\n",
       "</style>\n",
       "<table border=\"1\" class=\"dataframe\">\n",
       "  <thead>\n",
       "    <tr style=\"text-align: right;\">\n",
       "      <th></th>\n",
       "      <th>userid</th>\n",
       "      <th>gender</th>\n",
       "      <th>url</th>\n",
       "      <th>title</th>\n",
       "      <th>middle_domain</th>\n",
       "      <th>new_brand</th>\n",
       "    </tr>\n",
       "  </thead>\n",
       "  <tbody>\n",
       "    <tr>\n",
       "      <th>0</th>\n",
       "      <td>1521071</td>\n",
       "      <td>M</td>\n",
       "      <td>timesofindia.indiatimes.com/</td>\n",
       "      <td>India News, Latest Sports, Bollywood, World,</td>\n",
       "      <td>indiatimes</td>\n",
       "      <td>timesofindia</td>\n",
       "    </tr>\n",
       "    <tr>\n",
       "      <th>1</th>\n",
       "      <td>1521083</td>\n",
       "      <td>M</td>\n",
       "      <td>timesofindia.indiatimes.com/</td>\n",
       "      <td>India News, Latest Sports, Bollywood, World,</td>\n",
       "      <td>indiatimes</td>\n",
       "      <td>timesofindia</td>\n",
       "    </tr>\n",
       "    <tr>\n",
       "      <th>2</th>\n",
       "      <td>1521121</td>\n",
       "      <td>M</td>\n",
       "      <td>timesofindia.indiatimes.com/</td>\n",
       "      <td>India News, Latest Sports, Bollywood, World,</td>\n",
       "      <td>indiatimes</td>\n",
       "      <td>timesofindia</td>\n",
       "    </tr>\n",
       "    <tr>\n",
       "      <th>3</th>\n",
       "      <td>1521130</td>\n",
       "      <td>M</td>\n",
       "      <td>timesofindia.indiatimes.com/</td>\n",
       "      <td>India News, Latest Sports, Bollywood, World,</td>\n",
       "      <td>indiatimes</td>\n",
       "      <td>timesofindia</td>\n",
       "    </tr>\n",
       "    <tr>\n",
       "      <th>4</th>\n",
       "      <td>1521159</td>\n",
       "      <td>F</td>\n",
       "      <td>timesofindia.indiatimes.com/</td>\n",
       "      <td>India News, Latest Sports, Bollywood, World,</td>\n",
       "      <td>indiatimes</td>\n",
       "      <td>timesofindia</td>\n",
       "    </tr>\n",
       "  </tbody>\n",
       "</table>\n",
       "</div>"
      ],
      "text/plain": [
       "    userid gender                           url  \\\n",
       "0  1521071      M  timesofindia.indiatimes.com/   \n",
       "1  1521083      M  timesofindia.indiatimes.com/   \n",
       "2  1521121      M  timesofindia.indiatimes.com/   \n",
       "3  1521130      M  timesofindia.indiatimes.com/   \n",
       "4  1521159      F  timesofindia.indiatimes.com/   \n",
       "\n",
       "                                          title middle_domain     new_brand  \n",
       "0  India News, Latest Sports, Bollywood, World,    indiatimes  timesofindia  \n",
       "1  India News, Latest Sports, Bollywood, World,    indiatimes  timesofindia  \n",
       "2  India News, Latest Sports, Bollywood, World,    indiatimes  timesofindia  \n",
       "3  India News, Latest Sports, Bollywood, World,    indiatimes  timesofindia  \n",
       "4  India News, Latest Sports, Bollywood, World,    indiatimes  timesofindia  "
      ]
     },
     "execution_count": 594,
     "metadata": {},
     "output_type": "execute_result"
    }
   ],
   "source": [
    "df.head()"
   ]
  },
  {
   "cell_type": "code",
   "execution_count": 595,
   "metadata": {},
   "outputs": [],
   "source": [
    "# df['middle_domain'] = df['middle_domain'].apply(LabelEncoder().fit_transform)"
   ]
  },
  {
   "cell_type": "markdown",
   "metadata": {},
   "source": [
    "# Label Encoding columns"
   ]
  },
  {
   "cell_type": "code",
   "execution_count": 596,
   "metadata": {},
   "outputs": [],
   "source": [
    "le = LabelEncoder()"
   ]
  },
  {
   "cell_type": "code",
   "execution_count": 597,
   "metadata": {},
   "outputs": [],
   "source": [
    "df['gender'] = le.fit_transform(df['gender'])"
   ]
  },
  {
   "cell_type": "code",
   "execution_count": 598,
   "metadata": {},
   "outputs": [
    {
     "data": {
      "text/html": [
       "<div>\n",
       "<style scoped>\n",
       "    .dataframe tbody tr th:only-of-type {\n",
       "        vertical-align: middle;\n",
       "    }\n",
       "\n",
       "    .dataframe tbody tr th {\n",
       "        vertical-align: top;\n",
       "    }\n",
       "\n",
       "    .dataframe thead th {\n",
       "        text-align: right;\n",
       "    }\n",
       "</style>\n",
       "<table border=\"1\" class=\"dataframe\">\n",
       "  <thead>\n",
       "    <tr style=\"text-align: right;\">\n",
       "      <th></th>\n",
       "      <th>userid</th>\n",
       "      <th>gender</th>\n",
       "      <th>url</th>\n",
       "      <th>title</th>\n",
       "      <th>middle_domain</th>\n",
       "      <th>new_brand</th>\n",
       "    </tr>\n",
       "  </thead>\n",
       "  <tbody>\n",
       "    <tr>\n",
       "      <th>0</th>\n",
       "      <td>1521071</td>\n",
       "      <td>1</td>\n",
       "      <td>timesofindia.indiatimes.com/</td>\n",
       "      <td>India News, Latest Sports, Bollywood, World,</td>\n",
       "      <td>42</td>\n",
       "      <td>168</td>\n",
       "    </tr>\n",
       "    <tr>\n",
       "      <th>1</th>\n",
       "      <td>1521083</td>\n",
       "      <td>1</td>\n",
       "      <td>timesofindia.indiatimes.com/</td>\n",
       "      <td>India News, Latest Sports, Bollywood, World,</td>\n",
       "      <td>42</td>\n",
       "      <td>168</td>\n",
       "    </tr>\n",
       "    <tr>\n",
       "      <th>2</th>\n",
       "      <td>1521121</td>\n",
       "      <td>1</td>\n",
       "      <td>timesofindia.indiatimes.com/</td>\n",
       "      <td>India News, Latest Sports, Bollywood, World,</td>\n",
       "      <td>42</td>\n",
       "      <td>168</td>\n",
       "    </tr>\n",
       "    <tr>\n",
       "      <th>3</th>\n",
       "      <td>1521130</td>\n",
       "      <td>1</td>\n",
       "      <td>timesofindia.indiatimes.com/</td>\n",
       "      <td>India News, Latest Sports, Bollywood, World,</td>\n",
       "      <td>42</td>\n",
       "      <td>168</td>\n",
       "    </tr>\n",
       "    <tr>\n",
       "      <th>4</th>\n",
       "      <td>1521159</td>\n",
       "      <td>0</td>\n",
       "      <td>timesofindia.indiatimes.com/</td>\n",
       "      <td>India News, Latest Sports, Bollywood, World,</td>\n",
       "      <td>42</td>\n",
       "      <td>168</td>\n",
       "    </tr>\n",
       "  </tbody>\n",
       "</table>\n",
       "</div>"
      ],
      "text/plain": [
       "    userid  gender                           url  \\\n",
       "0  1521071       1  timesofindia.indiatimes.com/   \n",
       "1  1521083       1  timesofindia.indiatimes.com/   \n",
       "2  1521121       1  timesofindia.indiatimes.com/   \n",
       "3  1521130       1  timesofindia.indiatimes.com/   \n",
       "4  1521159       0  timesofindia.indiatimes.com/   \n",
       "\n",
       "                                          title  middle_domain  new_brand  \n",
       "0  India News, Latest Sports, Bollywood, World,             42        168  \n",
       "1  India News, Latest Sports, Bollywood, World,             42        168  \n",
       "2  India News, Latest Sports, Bollywood, World,             42        168  \n",
       "3  India News, Latest Sports, Bollywood, World,             42        168  \n",
       "4  India News, Latest Sports, Bollywood, World,             42        168  "
      ]
     },
     "execution_count": 598,
     "metadata": {},
     "output_type": "execute_result"
    }
   ],
   "source": [
    "df['middle_domain'] = le.fit_transform(df['middle_domain'])\n",
    "df['new_brand'] = le.fit_transform(df['new_brand'])\n",
    "df.head()"
   ]
  },
  {
   "cell_type": "code",
   "execution_count": 599,
   "metadata": {},
   "outputs": [
    {
     "data": {
      "text/html": [
       "<div>\n",
       "<style scoped>\n",
       "    .dataframe tbody tr th:only-of-type {\n",
       "        vertical-align: middle;\n",
       "    }\n",
       "\n",
       "    .dataframe tbody tr th {\n",
       "        vertical-align: top;\n",
       "    }\n",
       "\n",
       "    .dataframe thead th {\n",
       "        text-align: right;\n",
       "    }\n",
       "</style>\n",
       "<table border=\"1\" class=\"dataframe\">\n",
       "  <thead>\n",
       "    <tr style=\"text-align: right;\">\n",
       "      <th></th>\n",
       "      <th>userid</th>\n",
       "      <th>gender</th>\n",
       "      <th>url</th>\n",
       "      <th>title</th>\n",
       "      <th>middle_domain</th>\n",
       "      <th>new_brand</th>\n",
       "    </tr>\n",
       "  </thead>\n",
       "  <tbody>\n",
       "    <tr>\n",
       "      <th>0</th>\n",
       "      <td>1521071</td>\n",
       "      <td>1</td>\n",
       "      <td>timesofindia.indiatimes.com/</td>\n",
       "      <td>India News, Latest Sports, Bollywood, World,</td>\n",
       "      <td>42</td>\n",
       "      <td>168</td>\n",
       "    </tr>\n",
       "    <tr>\n",
       "      <th>1</th>\n",
       "      <td>1521083</td>\n",
       "      <td>1</td>\n",
       "      <td>timesofindia.indiatimes.com/</td>\n",
       "      <td>India News, Latest Sports, Bollywood, World,</td>\n",
       "      <td>42</td>\n",
       "      <td>168</td>\n",
       "    </tr>\n",
       "    <tr>\n",
       "      <th>2</th>\n",
       "      <td>1521121</td>\n",
       "      <td>1</td>\n",
       "      <td>timesofindia.indiatimes.com/</td>\n",
       "      <td>India News, Latest Sports, Bollywood, World,</td>\n",
       "      <td>42</td>\n",
       "      <td>168</td>\n",
       "    </tr>\n",
       "    <tr>\n",
       "      <th>3</th>\n",
       "      <td>1521130</td>\n",
       "      <td>1</td>\n",
       "      <td>timesofindia.indiatimes.com/</td>\n",
       "      <td>India News, Latest Sports, Bollywood, World,</td>\n",
       "      <td>42</td>\n",
       "      <td>168</td>\n",
       "    </tr>\n",
       "    <tr>\n",
       "      <th>4</th>\n",
       "      <td>1521159</td>\n",
       "      <td>0</td>\n",
       "      <td>timesofindia.indiatimes.com/</td>\n",
       "      <td>India News, Latest Sports, Bollywood, World,</td>\n",
       "      <td>42</td>\n",
       "      <td>168</td>\n",
       "    </tr>\n",
       "  </tbody>\n",
       "</table>\n",
       "</div>"
      ],
      "text/plain": [
       "    userid  gender                           url  \\\n",
       "0  1521071       1  timesofindia.indiatimes.com/   \n",
       "1  1521083       1  timesofindia.indiatimes.com/   \n",
       "2  1521121       1  timesofindia.indiatimes.com/   \n",
       "3  1521130       1  timesofindia.indiatimes.com/   \n",
       "4  1521159       0  timesofindia.indiatimes.com/   \n",
       "\n",
       "                                          title  middle_domain  new_brand  \n",
       "0  India News, Latest Sports, Bollywood, World,             42        168  \n",
       "1  India News, Latest Sports, Bollywood, World,             42        168  \n",
       "2  India News, Latest Sports, Bollywood, World,             42        168  \n",
       "3  India News, Latest Sports, Bollywood, World,             42        168  \n",
       "4  India News, Latest Sports, Bollywood, World,             42        168  "
      ]
     },
     "execution_count": 599,
     "metadata": {},
     "output_type": "execute_result"
    }
   ],
   "source": [
    "df.head()"
   ]
  },
  {
   "cell_type": "code",
   "execution_count": 600,
   "metadata": {},
   "outputs": [
    {
     "data": {
      "text/plain": [
       "array(['India News, Latest Sports, Bollywood, World,',\n",
       "       'IDBI Bank to sell bad loans, including RComâ€™s',\n",
       "       'Home-hosting to find new friends', ...,\n",
       "       \"Kalank of theft will end your happiness: Rajasthan Police's Alia Bhatt meme gets a thumbs up from Varun Dhawan\",\n",
       "       \"Five years that turned India's concept of news on its headÂ\\xa0 Â\\xa0 Â\\xa0\",\n",
       "       'Crumbling FOBs at Charbagh: Mumbai-like tragedy in waiting?'],\n",
       "      dtype=object)"
      ]
     },
     "execution_count": 600,
     "metadata": {},
     "output_type": "execute_result"
    }
   ],
   "source": [
    "df['title'].unique()"
   ]
  },
  {
   "cell_type": "markdown",
   "metadata": {},
   "source": [
    "# Trying NLP on title columns (tfidf)"
   ]
  },
  {
   "cell_type": "code",
   "execution_count": 601,
   "metadata": {},
   "outputs": [],
   "source": [
    "# from sklearn.feature_extraction.text import TfidfVectorizer"
   ]
  },
  {
   "cell_type": "code",
   "execution_count": 602,
   "metadata": {},
   "outputs": [],
   "source": [
    "# tfidf = TfidfVectorizer(sublinear_tf = True, min_df = 5, stop_words = 'english', encoding='latin-1', ngram_range=(1, 2))"
   ]
  },
  {
   "cell_type": "code",
   "execution_count": 603,
   "metadata": {},
   "outputs": [],
   "source": [
    "# features = tfidf.fit_transform(df.title).toarray()"
   ]
  },
  {
   "cell_type": "code",
   "execution_count": null,
   "metadata": {},
   "outputs": [],
   "source": [
    "# features.shape"
   ]
  },
  {
   "cell_type": "markdown",
   "metadata": {},
   "source": [
    "# Trying spark insted sklearn because of memory error"
   ]
  },
  {
   "cell_type": "code",
   "execution_count": null,
   "metadata": {},
   "outputs": [],
   "source": [
    "# from pyspark import SparkContext\n",
    "# from pyspark.mllib.feature import HashingTF\n",
    "# from pyspark.mllib.feature import IDF"
   ]
  },
  {
   "cell_type": "code",
   "execution_count": null,
   "metadata": {},
   "outputs": [],
   "source": [
    "# sc = SparkContext()\n",
    "\n",
    "# # Load documents (one per line).\n",
    "# # documents = sc.textFile(\"...\").map(lambda line: line.split(\" \"))\n",
    "\n",
    "# hashingTF = HashingTF()\n",
    "# tf = hashingTF.transform(df.title)\n",
    "\n",
    "# # tf.cache()\n",
    "# idf = IDF().fit(tf)\n",
    "# features = idf.transform(tf)"
   ]
  },
  {
   "cell_type": "markdown",
   "metadata": {},
   "source": [
    "# Using Dask (for parallel computing)"
   ]
  },
  {
   "cell_type": "code",
   "execution_count": null,
   "metadata": {},
   "outputs": [],
   "source": [
    "from dask.distributed import Client"
   ]
  },
  {
   "cell_type": "code",
   "execution_count": null,
   "metadata": {},
   "outputs": [],
   "source": [
    "# client = Client() # start a local Dask client"
   ]
  },
  {
   "cell_type": "code",
   "execution_count": null,
   "metadata": {},
   "outputs": [],
   "source": [
    "# import dask_ml\n",
    "# from sklearn.externals.joblib import parallel_backend"
   ]
  },
  {
   "cell_type": "markdown",
   "metadata": {},
   "source": [
    "# Dask on hold()"
   ]
  },
  {
   "cell_type": "markdown",
   "metadata": {},
   "source": [
    "# Now trying Bag of words"
   ]
  },
  {
   "cell_type": "code",
   "execution_count": null,
   "metadata": {},
   "outputs": [],
   "source": []
  },
  {
   "cell_type": "code",
   "execution_count": null,
   "metadata": {},
   "outputs": [],
   "source": []
  },
  {
   "cell_type": "code",
   "execution_count": 661,
   "metadata": {},
   "outputs": [],
   "source": [
    "# X_train.shape"
   ]
  },
  {
   "cell_type": "code",
   "execution_count": 662,
   "metadata": {},
   "outputs": [],
   "source": [
    "# features = tfidf.fit_transform(X_train_counts).toarray()"
   ]
  },
  {
   "cell_type": "code",
   "execution_count": 663,
   "metadata": {},
   "outputs": [],
   "source": [
    "# df.shape"
   ]
  },
  {
   "cell_type": "code",
   "execution_count": 664,
   "metadata": {},
   "outputs": [],
   "source": [
    "# X_train_tfidf.shape"
   ]
  },
  {
   "cell_type": "code",
   "execution_count": null,
   "metadata": {},
   "outputs": [],
   "source": [
    "# df['new_title_tfidf'] = df['new_title_tfidf'].apply(X_train_tfidf)"
   ]
  },
  {
   "cell_type": "code",
   "execution_count": 665,
   "metadata": {},
   "outputs": [],
   "source": [
    "# for i in range(1):\n",
    "#     print(X_train_tfidf[i])"
   ]
  },
  {
   "cell_type": "code",
   "execution_count": 666,
   "metadata": {},
   "outputs": [
    {
     "data": {
      "text/plain": [
       "1    1693111\n",
       "0     167655\n",
       "Name: gender, dtype: int64"
      ]
     },
     "execution_count": 666,
     "metadata": {},
     "output_type": "execute_result"
    }
   ],
   "source": [
    "# X_train_tfidf\n",
    "df['gender'].value_counts()"
   ]
  },
  {
   "cell_type": "code",
   "execution_count": null,
   "metadata": {},
   "outputs": [],
   "source": []
  },
  {
   "cell_type": "code",
   "execution_count": null,
   "metadata": {},
   "outputs": [],
   "source": []
  },
  {
   "cell_type": "code",
   "execution_count": null,
   "metadata": {},
   "outputs": [],
   "source": [
    "# df[df['gender'] == 0]"
   ]
  },
  {
   "cell_type": "code",
   "execution_count": 674,
   "metadata": {},
   "outputs": [
    {
     "data": {
      "text/plain": [
       "1    1\n",
       "0    1\n",
       "Name: gender, dtype: int64"
      ]
     },
     "execution_count": 674,
     "metadata": {},
     "output_type": "execute_result"
    }
   ],
   "source": [
    "# df[df['gender'] == 0]\n",
    "df[df['title'] == 'India News, Latest Sports, Bollywood, World,']['gender'].value_counts()"
   ]
  },
  {
   "cell_type": "code",
   "execution_count": 671,
   "metadata": {},
   "outputs": [],
   "source": [
    "df.drop_duplicates(subset=['title', 'url', 'gender'], inplace=True)"
   ]
  },
  {
   "cell_type": "code",
   "execution_count": 675,
   "metadata": {},
   "outputs": [
    {
     "data": {
      "text/plain": [
       "(100536, 30901)"
      ]
     },
     "execution_count": 675,
     "metadata": {},
     "output_type": "execute_result"
    }
   ],
   "source": [
    "from sklearn.feature_extraction.text import CountVectorizer\n",
    "count_vect = CountVectorizer()\n",
    "X_train_counts = count_vect.fit_transform(df.title, y=df.gender)\n",
    "# X_train_counts_1 = count_vect.fit_transform(df.title)\n",
    "# X_train = X_train_counts.append(X_train_counts_1)\n",
    "X_train_counts.shape"
   ]
  },
  {
   "cell_type": "code",
   "execution_count": 676,
   "metadata": {},
   "outputs": [
    {
     "data": {
      "text/plain": [
       "(100536, 30901)"
      ]
     },
     "execution_count": 676,
     "metadata": {},
     "output_type": "execute_result"
    }
   ],
   "source": [
    "from sklearn.feature_extraction.text import TfidfTransformer\n",
    "tfidf = TfidfVectorizer(sublinear_tf = True, min_df = 5, stop_words = 'english', encoding='latin-1', ngram_range=(1, 2))\n",
    "X_train_tfidf = tfidf_transformer.fit_transform(X_train_counts)\n",
    "X_train_tfidf.shape"
   ]
  },
  {
   "cell_type": "code",
   "execution_count": 773,
   "metadata": {},
   "outputs": [],
   "source": [
    "from sklearn.naive_bayes import MultinomialNB\n",
    "clf = MultinomialNB().fit(X_train_tfidf, df.gender)"
   ]
  },
  {
   "cell_type": "code",
   "execution_count": 774,
   "metadata": {},
   "outputs": [],
   "source": [
    "# print(clf.predict(count_vect.transform([df['title'][15]])))"
   ]
  },
  {
   "cell_type": "code",
   "execution_count": 775,
   "metadata": {},
   "outputs": [
    {
     "data": {
      "text/plain": [
       "1    1\n",
       "0    1\n",
       "Name: gender, dtype: int64"
      ]
     },
     "execution_count": 775,
     "metadata": {},
     "output_type": "execute_result"
    }
   ],
   "source": [
    "df[df['title'] == 'India News, Latest Sports, Bollywood, World,']['gender'].value_counts()"
   ]
  },
  {
   "cell_type": "code",
   "execution_count": 776,
   "metadata": {},
   "outputs": [],
   "source": [
    "df.reset_index(inplace=True)"
   ]
  },
  {
   "cell_type": "code",
   "execution_count": 777,
   "metadata": {},
   "outputs": [],
   "source": [
    "df_test = pd.read_csv('UserId_Test.csv')"
   ]
  },
  {
   "cell_type": "code",
   "execution_count": 778,
   "metadata": {},
   "outputs": [
    {
     "data": {
      "text/html": [
       "<div>\n",
       "<style scoped>\n",
       "    .dataframe tbody tr th:only-of-type {\n",
       "        vertical-align: middle;\n",
       "    }\n",
       "\n",
       "    .dataframe tbody tr th {\n",
       "        vertical-align: top;\n",
       "    }\n",
       "\n",
       "    .dataframe thead th {\n",
       "        text-align: right;\n",
       "    }\n",
       "</style>\n",
       "<table border=\"1\" class=\"dataframe\">\n",
       "  <thead>\n",
       "    <tr style=\"text-align: right;\">\n",
       "      <th></th>\n",
       "      <th>userid</th>\n",
       "    </tr>\n",
       "  </thead>\n",
       "  <tbody>\n",
       "    <tr>\n",
       "      <th>0</th>\n",
       "      <td>1521070</td>\n",
       "    </tr>\n",
       "    <tr>\n",
       "      <th>1</th>\n",
       "      <td>1521064</td>\n",
       "    </tr>\n",
       "    <tr>\n",
       "      <th>2</th>\n",
       "      <td>1521043</td>\n",
       "    </tr>\n",
       "    <tr>\n",
       "      <th>3</th>\n",
       "      <td>1521033</td>\n",
       "    </tr>\n",
       "    <tr>\n",
       "      <th>4</th>\n",
       "      <td>1521027</td>\n",
       "    </tr>\n",
       "  </tbody>\n",
       "</table>\n",
       "</div>"
      ],
      "text/plain": [
       "    userid\n",
       "0  1521070\n",
       "1  1521064\n",
       "2  1521043\n",
       "3  1521033\n",
       "4  1521027"
      ]
     },
     "execution_count": 778,
     "metadata": {},
     "output_type": "execute_result"
    }
   ],
   "source": [
    "df_test.head()"
   ]
  },
  {
   "cell_type": "code",
   "execution_count": 779,
   "metadata": {},
   "outputs": [],
   "source": [
    "df_test_f = df_test.merge(df_urltoid, on = 'userid')"
   ]
  },
  {
   "cell_type": "code",
   "execution_count": 780,
   "metadata": {},
   "outputs": [
    {
     "data": {
      "text/html": [
       "<div>\n",
       "<style scoped>\n",
       "    .dataframe tbody tr th:only-of-type {\n",
       "        vertical-align: middle;\n",
       "    }\n",
       "\n",
       "    .dataframe tbody tr th {\n",
       "        vertical-align: top;\n",
       "    }\n",
       "\n",
       "    .dataframe thead th {\n",
       "        text-align: right;\n",
       "    }\n",
       "</style>\n",
       "<table border=\"1\" class=\"dataframe\">\n",
       "  <thead>\n",
       "    <tr style=\"text-align: right;\">\n",
       "      <th></th>\n",
       "      <th>userid</th>\n",
       "      <th>url</th>\n",
       "    </tr>\n",
       "  </thead>\n",
       "  <tbody>\n",
       "    <tr>\n",
       "      <th>0</th>\n",
       "      <td>1521070</td>\n",
       "      <td>http://timesofindia.indiatimes.com/</td>\n",
       "    </tr>\n",
       "    <tr>\n",
       "      <th>1</th>\n",
       "      <td>1521070</td>\n",
       "      <td>https://timesofindia.indiatimes.com/world/midd...</td>\n",
       "    </tr>\n",
       "    <tr>\n",
       "      <th>2</th>\n",
       "      <td>1521070</td>\n",
       "      <td>https://timesofindia.indiatimes.com/india/virt...</td>\n",
       "    </tr>\n",
       "    <tr>\n",
       "      <th>3</th>\n",
       "      <td>1521070</td>\n",
       "      <td>https://timesofindia.indiatimes.com/india/war-...</td>\n",
       "    </tr>\n",
       "    <tr>\n",
       "      <th>4</th>\n",
       "      <td>1521070</td>\n",
       "      <td>https://timesofindia.indiatimes.com/business/i...</td>\n",
       "    </tr>\n",
       "  </tbody>\n",
       "</table>\n",
       "</div>"
      ],
      "text/plain": [
       "    userid                                                url\n",
       "0  1521070                http://timesofindia.indiatimes.com/\n",
       "1  1521070  https://timesofindia.indiatimes.com/world/midd...\n",
       "2  1521070  https://timesofindia.indiatimes.com/india/virt...\n",
       "3  1521070  https://timesofindia.indiatimes.com/india/war-...\n",
       "4  1521070  https://timesofindia.indiatimes.com/business/i..."
      ]
     },
     "execution_count": 780,
     "metadata": {},
     "output_type": "execute_result"
    }
   ],
   "source": [
    "df_test_f.head()"
   ]
  },
  {
   "cell_type": "code",
   "execution_count": 781,
   "metadata": {},
   "outputs": [],
   "source": [
    "df_test_f.drop_duplicates(subset = ['userid', 'url'], inplace = True)"
   ]
  },
  {
   "cell_type": "code",
   "execution_count": 782,
   "metadata": {},
   "outputs": [
    {
     "data": {
      "text/html": [
       "<div>\n",
       "<style scoped>\n",
       "    .dataframe tbody tr th:only-of-type {\n",
       "        vertical-align: middle;\n",
       "    }\n",
       "\n",
       "    .dataframe tbody tr th {\n",
       "        vertical-align: top;\n",
       "    }\n",
       "\n",
       "    .dataframe thead th {\n",
       "        text-align: right;\n",
       "    }\n",
       "</style>\n",
       "<table border=\"1\" class=\"dataframe\">\n",
       "  <thead>\n",
       "    <tr style=\"text-align: right;\">\n",
       "      <th></th>\n",
       "      <th>userid</th>\n",
       "      <th>url</th>\n",
       "    </tr>\n",
       "  </thead>\n",
       "  <tbody>\n",
       "    <tr>\n",
       "      <th>0</th>\n",
       "      <td>1521070</td>\n",
       "      <td>http://timesofindia.indiatimes.com/</td>\n",
       "    </tr>\n",
       "    <tr>\n",
       "      <th>1</th>\n",
       "      <td>1521070</td>\n",
       "      <td>https://timesofindia.indiatimes.com/world/midd...</td>\n",
       "    </tr>\n",
       "    <tr>\n",
       "      <th>2</th>\n",
       "      <td>1521070</td>\n",
       "      <td>https://timesofindia.indiatimes.com/india/virt...</td>\n",
       "    </tr>\n",
       "    <tr>\n",
       "      <th>3</th>\n",
       "      <td>1521070</td>\n",
       "      <td>https://timesofindia.indiatimes.com/india/war-...</td>\n",
       "    </tr>\n",
       "    <tr>\n",
       "      <th>4</th>\n",
       "      <td>1521070</td>\n",
       "      <td>https://timesofindia.indiatimes.com/business/i...</td>\n",
       "    </tr>\n",
       "  </tbody>\n",
       "</table>\n",
       "</div>"
      ],
      "text/plain": [
       "    userid                                                url\n",
       "0  1521070                http://timesofindia.indiatimes.com/\n",
       "1  1521070  https://timesofindia.indiatimes.com/world/midd...\n",
       "2  1521070  https://timesofindia.indiatimes.com/india/virt...\n",
       "3  1521070  https://timesofindia.indiatimes.com/india/war-...\n",
       "4  1521070  https://timesofindia.indiatimes.com/business/i..."
      ]
     },
     "execution_count": 782,
     "metadata": {},
     "output_type": "execute_result"
    }
   ],
   "source": [
    "df_test_f.head()"
   ]
  },
  {
   "cell_type": "code",
   "execution_count": 783,
   "metadata": {},
   "outputs": [
    {
     "data": {
      "text/plain": [
       "1527913"
      ]
     },
     "execution_count": 783,
     "metadata": {},
     "output_type": "execute_result"
    }
   ],
   "source": [
    "len(df_test_f)"
   ]
  },
  {
   "cell_type": "code",
   "execution_count": 784,
   "metadata": {},
   "outputs": [
    {
     "data": {
      "text/plain": [
       "88384"
      ]
     },
     "execution_count": 784,
     "metadata": {},
     "output_type": "execute_result"
    }
   ],
   "source": [
    "len(df_test_f['userid'].unique())"
   ]
  },
  {
   "cell_type": "code",
   "execution_count": 785,
   "metadata": {},
   "outputs": [],
   "source": [
    "df_test_f_1 = df_test_f.merge(df_js_1, on = 'url')"
   ]
  },
  {
   "cell_type": "code",
   "execution_count": 786,
   "metadata": {},
   "outputs": [
    {
     "data": {
      "text/html": [
       "<div>\n",
       "<style scoped>\n",
       "    .dataframe tbody tr th:only-of-type {\n",
       "        vertical-align: middle;\n",
       "    }\n",
       "\n",
       "    .dataframe tbody tr th {\n",
       "        vertical-align: top;\n",
       "    }\n",
       "\n",
       "    .dataframe thead th {\n",
       "        text-align: right;\n",
       "    }\n",
       "</style>\n",
       "<table border=\"1\" class=\"dataframe\">\n",
       "  <thead>\n",
       "    <tr style=\"text-align: right;\">\n",
       "      <th></th>\n",
       "      <th>userid</th>\n",
       "      <th>url</th>\n",
       "      <th>brand</th>\n",
       "      <th>title</th>\n",
       "    </tr>\n",
       "  </thead>\n",
       "  <tbody>\n",
       "    <tr>\n",
       "      <th>0</th>\n",
       "      <td>1521070</td>\n",
       "      <td>http://timesofindia.indiatimes.com/</td>\n",
       "      <td>TIMES OF INDIA</td>\n",
       "      <td>India News, Latest Sports, Bollywood, World,</td>\n",
       "    </tr>\n",
       "    <tr>\n",
       "      <th>1</th>\n",
       "      <td>1521070</td>\n",
       "      <td>http://timesofindia.indiatimes.com/</td>\n",
       "      <td>TIMES OF INDIA</td>\n",
       "      <td>News: India News, Latest Bollywood News, Spor</td>\n",
       "    </tr>\n",
       "    <tr>\n",
       "      <th>2</th>\n",
       "      <td>1521070</td>\n",
       "      <td>http://timesofindia.indiatimes.com/</td>\n",
       "      <td>TIMES OF INDIA</td>\n",
       "      <td>News: India News, Latest Bollywood News, Spor</td>\n",
       "    </tr>\n",
       "    <tr>\n",
       "      <th>3</th>\n",
       "      <td>1521070</td>\n",
       "      <td>http://timesofindia.indiatimes.com/</td>\n",
       "      <td>TIMES OF INDIA</td>\n",
       "      <td>News: India News, Latest Bollywood News, Spor</td>\n",
       "    </tr>\n",
       "    <tr>\n",
       "      <th>4</th>\n",
       "      <td>1521070</td>\n",
       "      <td>http://timesofindia.indiatimes.com/</td>\n",
       "      <td>TIMES OF INDIA</td>\n",
       "      <td>News: India News, Latest Bollywood News, Spor</td>\n",
       "    </tr>\n",
       "  </tbody>\n",
       "</table>\n",
       "</div>"
      ],
      "text/plain": [
       "    userid                                  url           brand  \\\n",
       "0  1521070  http://timesofindia.indiatimes.com/  TIMES OF INDIA   \n",
       "1  1521070  http://timesofindia.indiatimes.com/  TIMES OF INDIA   \n",
       "2  1521070  http://timesofindia.indiatimes.com/  TIMES OF INDIA   \n",
       "3  1521070  http://timesofindia.indiatimes.com/  TIMES OF INDIA   \n",
       "4  1521070  http://timesofindia.indiatimes.com/  TIMES OF INDIA   \n",
       "\n",
       "                                           title  \n",
       "0   India News, Latest Sports, Bollywood, World,  \n",
       "1  News: India News, Latest Bollywood News, Spor  \n",
       "2  News: India News, Latest Bollywood News, Spor  \n",
       "3  News: India News, Latest Bollywood News, Spor  \n",
       "4  News: India News, Latest Bollywood News, Spor  "
      ]
     },
     "execution_count": 786,
     "metadata": {},
     "output_type": "execute_result"
    }
   ],
   "source": [
    "df_test_f_1.head()"
   ]
  },
  {
   "cell_type": "code",
   "execution_count": 787,
   "metadata": {},
   "outputs": [
    {
     "data": {
      "text/plain": [
       "userid      0\n",
       "url         0\n",
       "brand     618\n",
       "title       0\n",
       "dtype: int64"
      ]
     },
     "execution_count": 787,
     "metadata": {},
     "output_type": "execute_result"
    }
   ],
   "source": [
    "df_test_f_1.isnull().sum()"
   ]
  },
  {
   "cell_type": "code",
   "execution_count": 698,
   "metadata": {},
   "outputs": [
    {
     "data": {
      "text/html": [
       "<div>\n",
       "<style scoped>\n",
       "    .dataframe tbody tr th:only-of-type {\n",
       "        vertical-align: middle;\n",
       "    }\n",
       "\n",
       "    .dataframe tbody tr th {\n",
       "        vertical-align: top;\n",
       "    }\n",
       "\n",
       "    .dataframe thead th {\n",
       "        text-align: right;\n",
       "    }\n",
       "</style>\n",
       "<table border=\"1\" class=\"dataframe\">\n",
       "  <thead>\n",
       "    <tr style=\"text-align: right;\">\n",
       "      <th></th>\n",
       "      <th>userid</th>\n",
       "      <th>url</th>\n",
       "      <th>brand</th>\n",
       "      <th>title</th>\n",
       "      <th>pred</th>\n",
       "    </tr>\n",
       "  </thead>\n",
       "  <tbody>\n",
       "    <tr>\n",
       "      <th>0</th>\n",
       "      <td>1521070</td>\n",
       "      <td>http://timesofindia.indiatimes.com/</td>\n",
       "      <td>TIMES OF INDIA</td>\n",
       "      <td>India News, Latest Sports, Bollywood, World,</td>\n",
       "      <td>1</td>\n",
       "    </tr>\n",
       "    <tr>\n",
       "      <th>1</th>\n",
       "      <td>1521070</td>\n",
       "      <td>http://timesofindia.indiatimes.com/</td>\n",
       "      <td>TIMES OF INDIA</td>\n",
       "      <td>News: India News, Latest Bollywood News, Spor</td>\n",
       "      <td>1</td>\n",
       "    </tr>\n",
       "    <tr>\n",
       "      <th>24</th>\n",
       "      <td>1521043</td>\n",
       "      <td>http://timesofindia.indiatimes.com/</td>\n",
       "      <td>TIMES OF INDIA</td>\n",
       "      <td>India News, Latest Sports, Bollywood, World,</td>\n",
       "      <td>1</td>\n",
       "    </tr>\n",
       "    <tr>\n",
       "      <th>25</th>\n",
       "      <td>1521043</td>\n",
       "      <td>http://timesofindia.indiatimes.com/</td>\n",
       "      <td>TIMES OF INDIA</td>\n",
       "      <td>News: India News, Latest Bollywood News, Spor</td>\n",
       "      <td>1</td>\n",
       "    </tr>\n",
       "    <tr>\n",
       "      <th>48</th>\n",
       "      <td>1521033</td>\n",
       "      <td>http://timesofindia.indiatimes.com/</td>\n",
       "      <td>TIMES OF INDIA</td>\n",
       "      <td>India News, Latest Sports, Bollywood, World,</td>\n",
       "      <td>1</td>\n",
       "    </tr>\n",
       "  </tbody>\n",
       "</table>\n",
       "</div>"
      ],
      "text/plain": [
       "     userid                                  url           brand  \\\n",
       "0   1521070  http://timesofindia.indiatimes.com/  TIMES OF INDIA   \n",
       "1   1521070  http://timesofindia.indiatimes.com/  TIMES OF INDIA   \n",
       "24  1521043  http://timesofindia.indiatimes.com/  TIMES OF INDIA   \n",
       "25  1521043  http://timesofindia.indiatimes.com/  TIMES OF INDIA   \n",
       "48  1521033  http://timesofindia.indiatimes.com/  TIMES OF INDIA   \n",
       "\n",
       "                                            title  pred  \n",
       "0    India News, Latest Sports, Bollywood, World,     1  \n",
       "1   News: India News, Latest Bollywood News, Spor     1  \n",
       "24   India News, Latest Sports, Bollywood, World,     1  \n",
       "25  News: India News, Latest Bollywood News, Spor     1  \n",
       "48   India News, Latest Sports, Bollywood, World,     1  "
      ]
     },
     "execution_count": 698,
     "metadata": {},
     "output_type": "execute_result"
    }
   ],
   "source": [
    "df_test_f_1.head()"
   ]
  },
  {
   "cell_type": "code",
   "execution_count": 699,
   "metadata": {},
   "outputs": [
    {
     "data": {
      "text/plain": [
       "1    892402\n",
       "0    455411\n",
       "Name: pred, dtype: int64"
      ]
     },
     "execution_count": 699,
     "metadata": {},
     "output_type": "execute_result"
    }
   ],
   "source": [
    "df_test_f_1['pred'].value_counts()"
   ]
  },
  {
   "cell_type": "code",
   "execution_count": 700,
   "metadata": {},
   "outputs": [
    {
     "data": {
      "text/plain": [
       "1347813"
      ]
     },
     "execution_count": 700,
     "metadata": {},
     "output_type": "execute_result"
    }
   ],
   "source": [
    "len(df_test_f_1)"
   ]
  },
  {
   "cell_type": "code",
   "execution_count": 722,
   "metadata": {},
   "outputs": [],
   "source": [
    "df_pred = df_test_f_1.drop_duplicates(subset = ['userid', 'pred'])"
   ]
  },
  {
   "cell_type": "code",
   "execution_count": 723,
   "metadata": {},
   "outputs": [
    {
     "data": {
      "text/html": [
       "<div>\n",
       "<style scoped>\n",
       "    .dataframe tbody tr th:only-of-type {\n",
       "        vertical-align: middle;\n",
       "    }\n",
       "\n",
       "    .dataframe tbody tr th {\n",
       "        vertical-align: top;\n",
       "    }\n",
       "\n",
       "    .dataframe thead th {\n",
       "        text-align: right;\n",
       "    }\n",
       "</style>\n",
       "<table border=\"1\" class=\"dataframe\">\n",
       "  <thead>\n",
       "    <tr style=\"text-align: right;\">\n",
       "      <th></th>\n",
       "      <th>userid</th>\n",
       "      <th>url</th>\n",
       "      <th>brand</th>\n",
       "      <th>title</th>\n",
       "      <th>pred</th>\n",
       "    </tr>\n",
       "  </thead>\n",
       "  <tbody>\n",
       "    <tr>\n",
       "      <th>0</th>\n",
       "      <td>1521070</td>\n",
       "      <td>http://timesofindia.indiatimes.com/</td>\n",
       "      <td>TIMES OF INDIA</td>\n",
       "      <td>India News, Latest Sports, Bollywood, World,</td>\n",
       "      <td>1</td>\n",
       "    </tr>\n",
       "    <tr>\n",
       "      <th>24</th>\n",
       "      <td>1521043</td>\n",
       "      <td>http://timesofindia.indiatimes.com/</td>\n",
       "      <td>TIMES OF INDIA</td>\n",
       "      <td>India News, Latest Sports, Bollywood, World,</td>\n",
       "      <td>1</td>\n",
       "    </tr>\n",
       "    <tr>\n",
       "      <th>48</th>\n",
       "      <td>1521033</td>\n",
       "      <td>http://timesofindia.indiatimes.com/</td>\n",
       "      <td>TIMES OF INDIA</td>\n",
       "      <td>India News, Latest Sports, Bollywood, World,</td>\n",
       "      <td>1</td>\n",
       "    </tr>\n",
       "    <tr>\n",
       "      <th>72</th>\n",
       "      <td>1521027</td>\n",
       "      <td>http://timesofindia.indiatimes.com/</td>\n",
       "      <td>TIMES OF INDIA</td>\n",
       "      <td>India News, Latest Sports, Bollywood, World,</td>\n",
       "      <td>1</td>\n",
       "    </tr>\n",
       "    <tr>\n",
       "      <th>96</th>\n",
       "      <td>1521008</td>\n",
       "      <td>http://timesofindia.indiatimes.com/</td>\n",
       "      <td>TIMES OF INDIA</td>\n",
       "      <td>India News, Latest Sports, Bollywood, World,</td>\n",
       "      <td>1</td>\n",
       "    </tr>\n",
       "  </tbody>\n",
       "</table>\n",
       "</div>"
      ],
      "text/plain": [
       "     userid                                  url           brand  \\\n",
       "0   1521070  http://timesofindia.indiatimes.com/  TIMES OF INDIA   \n",
       "24  1521043  http://timesofindia.indiatimes.com/  TIMES OF INDIA   \n",
       "48  1521033  http://timesofindia.indiatimes.com/  TIMES OF INDIA   \n",
       "72  1521027  http://timesofindia.indiatimes.com/  TIMES OF INDIA   \n",
       "96  1521008  http://timesofindia.indiatimes.com/  TIMES OF INDIA   \n",
       "\n",
       "                                           title  pred  \n",
       "0   India News, Latest Sports, Bollywood, World,     1  \n",
       "24  India News, Latest Sports, Bollywood, World,     1  \n",
       "48  India News, Latest Sports, Bollywood, World,     1  \n",
       "72  India News, Latest Sports, Bollywood, World,     1  \n",
       "96  India News, Latest Sports, Bollywood, World,     1  "
      ]
     },
     "execution_count": 723,
     "metadata": {},
     "output_type": "execute_result"
    }
   ],
   "source": [
    "df_pred.head()"
   ]
  },
  {
   "cell_type": "code",
   "execution_count": 724,
   "metadata": {},
   "outputs": [
    {
     "data": {
      "text/plain": [
       "130781"
      ]
     },
     "execution_count": 724,
     "metadata": {},
     "output_type": "execute_result"
    }
   ],
   "source": [
    "len(df_pred)"
   ]
  },
  {
   "cell_type": "code",
   "execution_count": 725,
   "metadata": {},
   "outputs": [
    {
     "data": {
      "text/plain": [
       "88384"
      ]
     },
     "execution_count": 725,
     "metadata": {},
     "output_type": "execute_result"
    }
   ],
   "source": [
    "len(df_test['userid'].unique())"
   ]
  },
  {
   "cell_type": "code",
   "execution_count": 726,
   "metadata": {},
   "outputs": [
    {
     "data": {
      "text/plain": [
       "1    83640\n",
       "0    47141\n",
       "Name: pred, dtype: int64"
      ]
     },
     "execution_count": 726,
     "metadata": {},
     "output_type": "execute_result"
    }
   ],
   "source": [
    "df_pred['pred'].value_counts()"
   ]
  },
  {
   "cell_type": "code",
   "execution_count": 706,
   "metadata": {},
   "outputs": [
    {
     "name": "stderr",
     "output_type": "stream",
     "text": [
      "C:\\Users\\HP PRO\\Anaconda3\\lib\\site-packages\\pandas\\core\\frame.py:4097: SettingWithCopyWarning: \n",
      "A value is trying to be set on a copy of a slice from a DataFrame\n",
      "\n",
      "See the caveats in the documentation: http://pandas.pydata.org/pandas-docs/stable/user_guide/indexing.html#returning-a-view-versus-a-copy\n",
      "  errors=errors,\n"
     ]
    }
   ],
   "source": [
    "df_pred.drop(['url', 'title', 'brand'], axis=1, inplace=True)"
   ]
  },
  {
   "cell_type": "code",
   "execution_count": 707,
   "metadata": {},
   "outputs": [
    {
     "data": {
      "text/html": [
       "<div>\n",
       "<style scoped>\n",
       "    .dataframe tbody tr th:only-of-type {\n",
       "        vertical-align: middle;\n",
       "    }\n",
       "\n",
       "    .dataframe tbody tr th {\n",
       "        vertical-align: top;\n",
       "    }\n",
       "\n",
       "    .dataframe thead th {\n",
       "        text-align: right;\n",
       "    }\n",
       "</style>\n",
       "<table border=\"1\" class=\"dataframe\">\n",
       "  <thead>\n",
       "    <tr style=\"text-align: right;\">\n",
       "      <th></th>\n",
       "      <th>userid</th>\n",
       "      <th>pred</th>\n",
       "    </tr>\n",
       "  </thead>\n",
       "  <tbody>\n",
       "    <tr>\n",
       "      <th>0</th>\n",
       "      <td>1521070</td>\n",
       "      <td>1</td>\n",
       "    </tr>\n",
       "    <tr>\n",
       "      <th>24</th>\n",
       "      <td>1521043</td>\n",
       "      <td>1</td>\n",
       "    </tr>\n",
       "    <tr>\n",
       "      <th>48</th>\n",
       "      <td>1521033</td>\n",
       "      <td>1</td>\n",
       "    </tr>\n",
       "    <tr>\n",
       "      <th>72</th>\n",
       "      <td>1521027</td>\n",
       "      <td>1</td>\n",
       "    </tr>\n",
       "    <tr>\n",
       "      <th>96</th>\n",
       "      <td>1521008</td>\n",
       "      <td>1</td>\n",
       "    </tr>\n",
       "  </tbody>\n",
       "</table>\n",
       "</div>"
      ],
      "text/plain": [
       "     userid  pred\n",
       "0   1521070     1\n",
       "24  1521043     1\n",
       "48  1521033     1\n",
       "72  1521027     1\n",
       "96  1521008     1"
      ]
     },
     "execution_count": 707,
     "metadata": {},
     "output_type": "execute_result"
    }
   ],
   "source": [
    "df_pred.head()"
   ]
  },
  {
   "cell_type": "code",
   "execution_count": 708,
   "metadata": {},
   "outputs": [
    {
     "name": "stderr",
     "output_type": "stream",
     "text": [
      "C:\\Users\\HP PRO\\Anaconda3\\lib\\site-packages\\ipykernel_launcher.py:1: SettingWithCopyWarning: \n",
      "A value is trying to be set on a copy of a slice from a DataFrame\n",
      "\n",
      "See the caveats in the documentation: http://pandas.pydata.org/pandas-docs/stable/user_guide/indexing.html#returning-a-view-versus-a-copy\n",
      "  \"\"\"Entry point for launching an IPython kernel.\n"
     ]
    }
   ],
   "source": [
    "df_pred.drop_duplicates(subset=['userid'], inplace=True, keep='first')"
   ]
  },
  {
   "cell_type": "code",
   "execution_count": 709,
   "metadata": {},
   "outputs": [
    {
     "data": {
      "text/plain": [
       "88384"
      ]
     },
     "execution_count": 709,
     "metadata": {},
     "output_type": "execute_result"
    }
   ],
   "source": [
    "len(df_pred)"
   ]
  },
  {
   "cell_type": "code",
   "execution_count": 710,
   "metadata": {},
   "outputs": [
    {
     "data": {
      "text/html": [
       "<div>\n",
       "<style scoped>\n",
       "    .dataframe tbody tr th:only-of-type {\n",
       "        vertical-align: middle;\n",
       "    }\n",
       "\n",
       "    .dataframe tbody tr th {\n",
       "        vertical-align: top;\n",
       "    }\n",
       "\n",
       "    .dataframe thead th {\n",
       "        text-align: right;\n",
       "    }\n",
       "</style>\n",
       "<table border=\"1\" class=\"dataframe\">\n",
       "  <thead>\n",
       "    <tr style=\"text-align: right;\">\n",
       "      <th></th>\n",
       "      <th>userid</th>\n",
       "      <th>pred</th>\n",
       "    </tr>\n",
       "  </thead>\n",
       "  <tbody>\n",
       "    <tr>\n",
       "      <th>0</th>\n",
       "      <td>1521070</td>\n",
       "      <td>1</td>\n",
       "    </tr>\n",
       "    <tr>\n",
       "      <th>24</th>\n",
       "      <td>1521043</td>\n",
       "      <td>1</td>\n",
       "    </tr>\n",
       "    <tr>\n",
       "      <th>48</th>\n",
       "      <td>1521033</td>\n",
       "      <td>1</td>\n",
       "    </tr>\n",
       "    <tr>\n",
       "      <th>72</th>\n",
       "      <td>1521027</td>\n",
       "      <td>1</td>\n",
       "    </tr>\n",
       "    <tr>\n",
       "      <th>96</th>\n",
       "      <td>1521008</td>\n",
       "      <td>1</td>\n",
       "    </tr>\n",
       "  </tbody>\n",
       "</table>\n",
       "</div>"
      ],
      "text/plain": [
       "     userid  pred\n",
       "0   1521070     1\n",
       "24  1521043     1\n",
       "48  1521033     1\n",
       "72  1521027     1\n",
       "96  1521008     1"
      ]
     },
     "execution_count": 710,
     "metadata": {},
     "output_type": "execute_result"
    }
   ],
   "source": [
    "df_pred.head()"
   ]
  },
  {
   "cell_type": "code",
   "execution_count": 711,
   "metadata": {},
   "outputs": [],
   "source": [
    "def num_to_gender(s):\n",
    "    if s == 1:\n",
    "        return \"M\"\n",
    "    else:\n",
    "        return \"F\""
   ]
  },
  {
   "cell_type": "code",
   "execution_count": 712,
   "metadata": {},
   "outputs": [
    {
     "name": "stderr",
     "output_type": "stream",
     "text": [
      "C:\\Users\\HP PRO\\Anaconda3\\lib\\site-packages\\ipykernel_launcher.py:1: SettingWithCopyWarning: \n",
      "A value is trying to be set on a copy of a slice from a DataFrame.\n",
      "Try using .loc[row_indexer,col_indexer] = value instead\n",
      "\n",
      "See the caveats in the documentation: http://pandas.pydata.org/pandas-docs/stable/user_guide/indexing.html#returning-a-view-versus-a-copy\n",
      "  \"\"\"Entry point for launching an IPython kernel.\n"
     ]
    }
   ],
   "source": [
    "df_pred['gender'] = df_pred['pred'].apply(num_to_gender)"
   ]
  },
  {
   "cell_type": "code",
   "execution_count": 713,
   "metadata": {},
   "outputs": [
    {
     "data": {
      "text/html": [
       "<div>\n",
       "<style scoped>\n",
       "    .dataframe tbody tr th:only-of-type {\n",
       "        vertical-align: middle;\n",
       "    }\n",
       "\n",
       "    .dataframe tbody tr th {\n",
       "        vertical-align: top;\n",
       "    }\n",
       "\n",
       "    .dataframe thead th {\n",
       "        text-align: right;\n",
       "    }\n",
       "</style>\n",
       "<table border=\"1\" class=\"dataframe\">\n",
       "  <thead>\n",
       "    <tr style=\"text-align: right;\">\n",
       "      <th></th>\n",
       "      <th>userid</th>\n",
       "      <th>pred</th>\n",
       "      <th>gender</th>\n",
       "    </tr>\n",
       "  </thead>\n",
       "  <tbody>\n",
       "    <tr>\n",
       "      <th>0</th>\n",
       "      <td>1521070</td>\n",
       "      <td>1</td>\n",
       "      <td>M</td>\n",
       "    </tr>\n",
       "    <tr>\n",
       "      <th>24</th>\n",
       "      <td>1521043</td>\n",
       "      <td>1</td>\n",
       "      <td>M</td>\n",
       "    </tr>\n",
       "    <tr>\n",
       "      <th>48</th>\n",
       "      <td>1521033</td>\n",
       "      <td>1</td>\n",
       "      <td>M</td>\n",
       "    </tr>\n",
       "    <tr>\n",
       "      <th>72</th>\n",
       "      <td>1521027</td>\n",
       "      <td>1</td>\n",
       "      <td>M</td>\n",
       "    </tr>\n",
       "    <tr>\n",
       "      <th>96</th>\n",
       "      <td>1521008</td>\n",
       "      <td>1</td>\n",
       "      <td>M</td>\n",
       "    </tr>\n",
       "  </tbody>\n",
       "</table>\n",
       "</div>"
      ],
      "text/plain": [
       "     userid  pred gender\n",
       "0   1521070     1      M\n",
       "24  1521043     1      M\n",
       "48  1521033     1      M\n",
       "72  1521027     1      M\n",
       "96  1521008     1      M"
      ]
     },
     "execution_count": 713,
     "metadata": {},
     "output_type": "execute_result"
    }
   ],
   "source": [
    "df_pred.head()"
   ]
  },
  {
   "cell_type": "code",
   "execution_count": 714,
   "metadata": {},
   "outputs": [
    {
     "name": "stderr",
     "output_type": "stream",
     "text": [
      "C:\\Users\\HP PRO\\Anaconda3\\lib\\site-packages\\pandas\\core\\frame.py:4097: SettingWithCopyWarning: \n",
      "A value is trying to be set on a copy of a slice from a DataFrame\n",
      "\n",
      "See the caveats in the documentation: http://pandas.pydata.org/pandas-docs/stable/user_guide/indexing.html#returning-a-view-versus-a-copy\n",
      "  errors=errors,\n"
     ]
    }
   ],
   "source": [
    "df_pred.drop('pred', inplace=True, axis=1)"
   ]
  },
  {
   "cell_type": "code",
   "execution_count": 715,
   "metadata": {},
   "outputs": [
    {
     "data": {
      "text/html": [
       "<div>\n",
       "<style scoped>\n",
       "    .dataframe tbody tr th:only-of-type {\n",
       "        vertical-align: middle;\n",
       "    }\n",
       "\n",
       "    .dataframe tbody tr th {\n",
       "        vertical-align: top;\n",
       "    }\n",
       "\n",
       "    .dataframe thead th {\n",
       "        text-align: right;\n",
       "    }\n",
       "</style>\n",
       "<table border=\"1\" class=\"dataframe\">\n",
       "  <thead>\n",
       "    <tr style=\"text-align: right;\">\n",
       "      <th></th>\n",
       "      <th>userid</th>\n",
       "      <th>gender</th>\n",
       "    </tr>\n",
       "  </thead>\n",
       "  <tbody>\n",
       "    <tr>\n",
       "      <th>0</th>\n",
       "      <td>1521070</td>\n",
       "      <td>M</td>\n",
       "    </tr>\n",
       "    <tr>\n",
       "      <th>24</th>\n",
       "      <td>1521043</td>\n",
       "      <td>M</td>\n",
       "    </tr>\n",
       "    <tr>\n",
       "      <th>48</th>\n",
       "      <td>1521033</td>\n",
       "      <td>M</td>\n",
       "    </tr>\n",
       "    <tr>\n",
       "      <th>72</th>\n",
       "      <td>1521027</td>\n",
       "      <td>M</td>\n",
       "    </tr>\n",
       "    <tr>\n",
       "      <th>96</th>\n",
       "      <td>1521008</td>\n",
       "      <td>M</td>\n",
       "    </tr>\n",
       "  </tbody>\n",
       "</table>\n",
       "</div>"
      ],
      "text/plain": [
       "     userid gender\n",
       "0   1521070      M\n",
       "24  1521043      M\n",
       "48  1521033      M\n",
       "72  1521027      M\n",
       "96  1521008      M"
      ]
     },
     "execution_count": 715,
     "metadata": {},
     "output_type": "execute_result"
    }
   ],
   "source": [
    "\n",
    "df_pred.head()"
   ]
  },
  {
   "cell_type": "code",
   "execution_count": 716,
   "metadata": {},
   "outputs": [
    {
     "data": {
      "text/plain": [
       "88384"
      ]
     },
     "execution_count": 716,
     "metadata": {},
     "output_type": "execute_result"
    }
   ],
   "source": [
    "len(df_pred)"
   ]
  },
  {
   "cell_type": "code",
   "execution_count": 717,
   "metadata": {},
   "outputs": [],
   "source": [
    "df_pred.to_csv('submission.csv')"
   ]
  },
  {
   "cell_type": "code",
   "execution_count": 718,
   "metadata": {},
   "outputs": [
    {
     "data": {
      "text/plain": [
       "M    78439\n",
       "F     9945\n",
       "Name: gender, dtype: int64"
      ]
     },
     "execution_count": 718,
     "metadata": {},
     "output_type": "execute_result"
    }
   ],
   "source": [
    "df_pred['gender'].value_counts()"
   ]
  },
  {
   "cell_type": "code",
   "execution_count": 719,
   "metadata": {},
   "outputs": [
    {
     "data": {
      "text/plain": [
       "M    188264\n",
       "F     41180\n",
       "Name: gender, dtype: int64"
      ]
     },
     "execution_count": 719,
     "metadata": {},
     "output_type": "execute_result"
    }
   ],
   "source": [
    "df_1['gender'].value_counts()"
   ]
  },
  {
   "cell_type": "code",
   "execution_count": 720,
   "metadata": {},
   "outputs": [],
   "source": [
    "from sklearn.linear_model import LogisticRegression\n",
    "from sklearn.ensemble import RandomForestClassifier\n",
    "from sklearn.svm import LinearSVC\n",
    "from sklearn.model_selection import cross_val_score"
   ]
  },
  {
   "cell_type": "code",
   "execution_count": 721,
   "metadata": {},
   "outputs": [],
   "source": [
    "svc = LinearSVC().fit(X_train_tfidf, df.gender)"
   ]
  },
  {
   "cell_type": "code",
   "execution_count": 727,
   "metadata": {},
   "outputs": [],
   "source": [
    "y_pred_svc = svc.predict(count_vect.transform(df_test_f_1['title']))"
   ]
  },
  {
   "cell_type": "code",
   "execution_count": 728,
   "metadata": {},
   "outputs": [],
   "source": [
    "df_test_f_1['pred_svc'] = y_pred_svc"
   ]
  },
  {
   "cell_type": "code",
   "execution_count": 729,
   "metadata": {},
   "outputs": [
    {
     "data": {
      "text/html": [
       "<div>\n",
       "<style scoped>\n",
       "    .dataframe tbody tr th:only-of-type {\n",
       "        vertical-align: middle;\n",
       "    }\n",
       "\n",
       "    .dataframe tbody tr th {\n",
       "        vertical-align: top;\n",
       "    }\n",
       "\n",
       "    .dataframe thead th {\n",
       "        text-align: right;\n",
       "    }\n",
       "</style>\n",
       "<table border=\"1\" class=\"dataframe\">\n",
       "  <thead>\n",
       "    <tr style=\"text-align: right;\">\n",
       "      <th></th>\n",
       "      <th>userid</th>\n",
       "      <th>url</th>\n",
       "      <th>brand</th>\n",
       "      <th>title</th>\n",
       "      <th>pred</th>\n",
       "      <th>pred_svc</th>\n",
       "    </tr>\n",
       "  </thead>\n",
       "  <tbody>\n",
       "    <tr>\n",
       "      <th>0</th>\n",
       "      <td>1521070</td>\n",
       "      <td>http://timesofindia.indiatimes.com/</td>\n",
       "      <td>TIMES OF INDIA</td>\n",
       "      <td>India News, Latest Sports, Bollywood, World,</td>\n",
       "      <td>1</td>\n",
       "      <td>0</td>\n",
       "    </tr>\n",
       "    <tr>\n",
       "      <th>1</th>\n",
       "      <td>1521070</td>\n",
       "      <td>http://timesofindia.indiatimes.com/</td>\n",
       "      <td>TIMES OF INDIA</td>\n",
       "      <td>News: India News, Latest Bollywood News, Spor</td>\n",
       "      <td>1</td>\n",
       "      <td>0</td>\n",
       "    </tr>\n",
       "    <tr>\n",
       "      <th>24</th>\n",
       "      <td>1521043</td>\n",
       "      <td>http://timesofindia.indiatimes.com/</td>\n",
       "      <td>TIMES OF INDIA</td>\n",
       "      <td>India News, Latest Sports, Bollywood, World,</td>\n",
       "      <td>1</td>\n",
       "      <td>0</td>\n",
       "    </tr>\n",
       "    <tr>\n",
       "      <th>25</th>\n",
       "      <td>1521043</td>\n",
       "      <td>http://timesofindia.indiatimes.com/</td>\n",
       "      <td>TIMES OF INDIA</td>\n",
       "      <td>News: India News, Latest Bollywood News, Spor</td>\n",
       "      <td>1</td>\n",
       "      <td>0</td>\n",
       "    </tr>\n",
       "    <tr>\n",
       "      <th>48</th>\n",
       "      <td>1521033</td>\n",
       "      <td>http://timesofindia.indiatimes.com/</td>\n",
       "      <td>TIMES OF INDIA</td>\n",
       "      <td>India News, Latest Sports, Bollywood, World,</td>\n",
       "      <td>1</td>\n",
       "      <td>0</td>\n",
       "    </tr>\n",
       "  </tbody>\n",
       "</table>\n",
       "</div>"
      ],
      "text/plain": [
       "     userid                                  url           brand  \\\n",
       "0   1521070  http://timesofindia.indiatimes.com/  TIMES OF INDIA   \n",
       "1   1521070  http://timesofindia.indiatimes.com/  TIMES OF INDIA   \n",
       "24  1521043  http://timesofindia.indiatimes.com/  TIMES OF INDIA   \n",
       "25  1521043  http://timesofindia.indiatimes.com/  TIMES OF INDIA   \n",
       "48  1521033  http://timesofindia.indiatimes.com/  TIMES OF INDIA   \n",
       "\n",
       "                                            title  pred  pred_svc  \n",
       "0    India News, Latest Sports, Bollywood, World,     1         0  \n",
       "1   News: India News, Latest Bollywood News, Spor     1         0  \n",
       "24   India News, Latest Sports, Bollywood, World,     1         0  \n",
       "25  News: India News, Latest Bollywood News, Spor     1         0  \n",
       "48   India News, Latest Sports, Bollywood, World,     1         0  "
      ]
     },
     "execution_count": 729,
     "metadata": {},
     "output_type": "execute_result"
    }
   ],
   "source": [
    "df_test_f_1.head()"
   ]
  },
  {
   "cell_type": "code",
   "execution_count": 730,
   "metadata": {},
   "outputs": [
    {
     "data": {
      "text/plain": [
       "0    875839\n",
       "1    471974\n",
       "Name: pred_svc, dtype: int64"
      ]
     },
     "execution_count": 730,
     "metadata": {},
     "output_type": "execute_result"
    }
   ],
   "source": [
    "df_test_f_1['pred_svc'].value_counts()"
   ]
  },
  {
   "cell_type": "code",
   "execution_count": 732,
   "metadata": {},
   "outputs": [],
   "source": [
    "df_pred_svc = df_test_f_1.drop_duplicates(subset = ['userid', 'pred_svc'])"
   ]
  },
  {
   "cell_type": "code",
   "execution_count": 733,
   "metadata": {},
   "outputs": [
    {
     "data": {
      "text/html": [
       "<div>\n",
       "<style scoped>\n",
       "    .dataframe tbody tr th:only-of-type {\n",
       "        vertical-align: middle;\n",
       "    }\n",
       "\n",
       "    .dataframe tbody tr th {\n",
       "        vertical-align: top;\n",
       "    }\n",
       "\n",
       "    .dataframe thead th {\n",
       "        text-align: right;\n",
       "    }\n",
       "</style>\n",
       "<table border=\"1\" class=\"dataframe\">\n",
       "  <thead>\n",
       "    <tr style=\"text-align: right;\">\n",
       "      <th></th>\n",
       "      <th>userid</th>\n",
       "      <th>url</th>\n",
       "      <th>brand</th>\n",
       "      <th>title</th>\n",
       "      <th>pred</th>\n",
       "      <th>pred_svc</th>\n",
       "    </tr>\n",
       "  </thead>\n",
       "  <tbody>\n",
       "    <tr>\n",
       "      <th>0</th>\n",
       "      <td>1521070</td>\n",
       "      <td>http://timesofindia.indiatimes.com/</td>\n",
       "      <td>TIMES OF INDIA</td>\n",
       "      <td>India News, Latest Sports, Bollywood, World,</td>\n",
       "      <td>1</td>\n",
       "      <td>0</td>\n",
       "    </tr>\n",
       "    <tr>\n",
       "      <th>24</th>\n",
       "      <td>1521043</td>\n",
       "      <td>http://timesofindia.indiatimes.com/</td>\n",
       "      <td>TIMES OF INDIA</td>\n",
       "      <td>India News, Latest Sports, Bollywood, World,</td>\n",
       "      <td>1</td>\n",
       "      <td>0</td>\n",
       "    </tr>\n",
       "    <tr>\n",
       "      <th>48</th>\n",
       "      <td>1521033</td>\n",
       "      <td>http://timesofindia.indiatimes.com/</td>\n",
       "      <td>TIMES OF INDIA</td>\n",
       "      <td>India News, Latest Sports, Bollywood, World,</td>\n",
       "      <td>1</td>\n",
       "      <td>0</td>\n",
       "    </tr>\n",
       "    <tr>\n",
       "      <th>72</th>\n",
       "      <td>1521027</td>\n",
       "      <td>http://timesofindia.indiatimes.com/</td>\n",
       "      <td>TIMES OF INDIA</td>\n",
       "      <td>India News, Latest Sports, Bollywood, World,</td>\n",
       "      <td>1</td>\n",
       "      <td>0</td>\n",
       "    </tr>\n",
       "    <tr>\n",
       "      <th>96</th>\n",
       "      <td>1521008</td>\n",
       "      <td>http://timesofindia.indiatimes.com/</td>\n",
       "      <td>TIMES OF INDIA</td>\n",
       "      <td>India News, Latest Sports, Bollywood, World,</td>\n",
       "      <td>1</td>\n",
       "      <td>0</td>\n",
       "    </tr>\n",
       "  </tbody>\n",
       "</table>\n",
       "</div>"
      ],
      "text/plain": [
       "     userid                                  url           brand  \\\n",
       "0   1521070  http://timesofindia.indiatimes.com/  TIMES OF INDIA   \n",
       "24  1521043  http://timesofindia.indiatimes.com/  TIMES OF INDIA   \n",
       "48  1521033  http://timesofindia.indiatimes.com/  TIMES OF INDIA   \n",
       "72  1521027  http://timesofindia.indiatimes.com/  TIMES OF INDIA   \n",
       "96  1521008  http://timesofindia.indiatimes.com/  TIMES OF INDIA   \n",
       "\n",
       "                                           title  pred  pred_svc  \n",
       "0   India News, Latest Sports, Bollywood, World,     1         0  \n",
       "24  India News, Latest Sports, Bollywood, World,     1         0  \n",
       "48  India News, Latest Sports, Bollywood, World,     1         0  \n",
       "72  India News, Latest Sports, Bollywood, World,     1         0  \n",
       "96  India News, Latest Sports, Bollywood, World,     1         0  "
      ]
     },
     "execution_count": 733,
     "metadata": {},
     "output_type": "execute_result"
    }
   ],
   "source": [
    "df_pred_svc.head()"
   ]
  },
  {
   "cell_type": "code",
   "execution_count": 734,
   "metadata": {},
   "outputs": [
    {
     "name": "stderr",
     "output_type": "stream",
     "text": [
      "C:\\Users\\HP PRO\\Anaconda3\\lib\\site-packages\\pandas\\core\\frame.py:4097: SettingWithCopyWarning: \n",
      "A value is trying to be set on a copy of a slice from a DataFrame\n",
      "\n",
      "See the caveats in the documentation: http://pandas.pydata.org/pandas-docs/stable/user_guide/indexing.html#returning-a-view-versus-a-copy\n",
      "  errors=errors,\n"
     ]
    }
   ],
   "source": [
    "df_pred_svc.drop(['url', 'brand', 'title', 'pred'], axis=1, inplace=True)"
   ]
  },
  {
   "cell_type": "code",
   "execution_count": 735,
   "metadata": {},
   "outputs": [
    {
     "data": {
      "text/html": [
       "<div>\n",
       "<style scoped>\n",
       "    .dataframe tbody tr th:only-of-type {\n",
       "        vertical-align: middle;\n",
       "    }\n",
       "\n",
       "    .dataframe tbody tr th {\n",
       "        vertical-align: top;\n",
       "    }\n",
       "\n",
       "    .dataframe thead th {\n",
       "        text-align: right;\n",
       "    }\n",
       "</style>\n",
       "<table border=\"1\" class=\"dataframe\">\n",
       "  <thead>\n",
       "    <tr style=\"text-align: right;\">\n",
       "      <th></th>\n",
       "      <th>userid</th>\n",
       "      <th>pred_svc</th>\n",
       "    </tr>\n",
       "  </thead>\n",
       "  <tbody>\n",
       "    <tr>\n",
       "      <th>0</th>\n",
       "      <td>1521070</td>\n",
       "      <td>0</td>\n",
       "    </tr>\n",
       "    <tr>\n",
       "      <th>24</th>\n",
       "      <td>1521043</td>\n",
       "      <td>0</td>\n",
       "    </tr>\n",
       "    <tr>\n",
       "      <th>48</th>\n",
       "      <td>1521033</td>\n",
       "      <td>0</td>\n",
       "    </tr>\n",
       "    <tr>\n",
       "      <th>72</th>\n",
       "      <td>1521027</td>\n",
       "      <td>0</td>\n",
       "    </tr>\n",
       "    <tr>\n",
       "      <th>96</th>\n",
       "      <td>1521008</td>\n",
       "      <td>0</td>\n",
       "    </tr>\n",
       "  </tbody>\n",
       "</table>\n",
       "</div>"
      ],
      "text/plain": [
       "     userid  pred_svc\n",
       "0   1521070         0\n",
       "24  1521043         0\n",
       "48  1521033         0\n",
       "72  1521027         0\n",
       "96  1521008         0"
      ]
     },
     "execution_count": 735,
     "metadata": {},
     "output_type": "execute_result"
    }
   ],
   "source": [
    "df_pred_svc.head()"
   ]
  },
  {
   "cell_type": "code",
   "execution_count": 736,
   "metadata": {},
   "outputs": [
    {
     "data": {
      "text/plain": [
       "0    76425\n",
       "1    49488\n",
       "Name: pred_svc, dtype: int64"
      ]
     },
     "execution_count": 736,
     "metadata": {},
     "output_type": "execute_result"
    }
   ],
   "source": [
    "df_pred_svc['pred_svc'].value_counts()"
   ]
  },
  {
   "cell_type": "code",
   "execution_count": 737,
   "metadata": {},
   "outputs": [
    {
     "name": "stderr",
     "output_type": "stream",
     "text": [
      "C:\\Users\\HP PRO\\Anaconda3\\lib\\site-packages\\ipykernel_launcher.py:1: SettingWithCopyWarning: \n",
      "A value is trying to be set on a copy of a slice from a DataFrame\n",
      "\n",
      "See the caveats in the documentation: http://pandas.pydata.org/pandas-docs/stable/user_guide/indexing.html#returning-a-view-versus-a-copy\n",
      "  \"\"\"Entry point for launching an IPython kernel.\n"
     ]
    }
   ],
   "source": [
    "df_pred_svc.drop_duplicates(subset=['userid'], inplace=True, keep='first')"
   ]
  },
  {
   "cell_type": "code",
   "execution_count": 738,
   "metadata": {},
   "outputs": [
    {
     "data": {
      "text/plain": [
       "0    72259\n",
       "1    16125\n",
       "Name: pred_svc, dtype: int64"
      ]
     },
     "execution_count": 738,
     "metadata": {},
     "output_type": "execute_result"
    }
   ],
   "source": [
    "df_pred_svc['pred_svc'].value_counts()"
   ]
  },
  {
   "cell_type": "code",
   "execution_count": 739,
   "metadata": {},
   "outputs": [
    {
     "data": {
      "text/plain": [
       "88384"
      ]
     },
     "execution_count": 739,
     "metadata": {},
     "output_type": "execute_result"
    }
   ],
   "source": [
    "len(df_pred_svc)"
   ]
  },
  {
   "cell_type": "code",
   "execution_count": 740,
   "metadata": {},
   "outputs": [
    {
     "name": "stderr",
     "output_type": "stream",
     "text": [
      "C:\\Users\\HP PRO\\Anaconda3\\lib\\site-packages\\ipykernel_launcher.py:1: SettingWithCopyWarning: \n",
      "A value is trying to be set on a copy of a slice from a DataFrame.\n",
      "Try using .loc[row_indexer,col_indexer] = value instead\n",
      "\n",
      "See the caveats in the documentation: http://pandas.pydata.org/pandas-docs/stable/user_guide/indexing.html#returning-a-view-versus-a-copy\n",
      "  \"\"\"Entry point for launching an IPython kernel.\n"
     ]
    }
   ],
   "source": [
    "df_pred_svc['gender'] = df_pred_svc['pred_svc'].apply(num_to_gender)"
   ]
  },
  {
   "cell_type": "code",
   "execution_count": 741,
   "metadata": {},
   "outputs": [
    {
     "name": "stderr",
     "output_type": "stream",
     "text": [
      "C:\\Users\\HP PRO\\Anaconda3\\lib\\site-packages\\pandas\\core\\frame.py:4097: SettingWithCopyWarning: \n",
      "A value is trying to be set on a copy of a slice from a DataFrame\n",
      "\n",
      "See the caveats in the documentation: http://pandas.pydata.org/pandas-docs/stable/user_guide/indexing.html#returning-a-view-versus-a-copy\n",
      "  errors=errors,\n"
     ]
    }
   ],
   "source": [
    "df_pred_svc.drop('pred_svc', inplace=True, axis=1)"
   ]
  },
  {
   "cell_type": "code",
   "execution_count": 742,
   "metadata": {},
   "outputs": [
    {
     "data": {
      "text/html": [
       "<div>\n",
       "<style scoped>\n",
       "    .dataframe tbody tr th:only-of-type {\n",
       "        vertical-align: middle;\n",
       "    }\n",
       "\n",
       "    .dataframe tbody tr th {\n",
       "        vertical-align: top;\n",
       "    }\n",
       "\n",
       "    .dataframe thead th {\n",
       "        text-align: right;\n",
       "    }\n",
       "</style>\n",
       "<table border=\"1\" class=\"dataframe\">\n",
       "  <thead>\n",
       "    <tr style=\"text-align: right;\">\n",
       "      <th></th>\n",
       "      <th>userid</th>\n",
       "      <th>gender</th>\n",
       "    </tr>\n",
       "  </thead>\n",
       "  <tbody>\n",
       "    <tr>\n",
       "      <th>0</th>\n",
       "      <td>1521070</td>\n",
       "      <td>F</td>\n",
       "    </tr>\n",
       "    <tr>\n",
       "      <th>24</th>\n",
       "      <td>1521043</td>\n",
       "      <td>F</td>\n",
       "    </tr>\n",
       "    <tr>\n",
       "      <th>48</th>\n",
       "      <td>1521033</td>\n",
       "      <td>F</td>\n",
       "    </tr>\n",
       "    <tr>\n",
       "      <th>72</th>\n",
       "      <td>1521027</td>\n",
       "      <td>F</td>\n",
       "    </tr>\n",
       "    <tr>\n",
       "      <th>96</th>\n",
       "      <td>1521008</td>\n",
       "      <td>F</td>\n",
       "    </tr>\n",
       "  </tbody>\n",
       "</table>\n",
       "</div>"
      ],
      "text/plain": [
       "     userid gender\n",
       "0   1521070      F\n",
       "24  1521043      F\n",
       "48  1521033      F\n",
       "72  1521027      F\n",
       "96  1521008      F"
      ]
     },
     "execution_count": 742,
     "metadata": {},
     "output_type": "execute_result"
    }
   ],
   "source": [
    "df_pred_svc.head()"
   ]
  },
  {
   "cell_type": "code",
   "execution_count": 743,
   "metadata": {},
   "outputs": [],
   "source": [
    "df_pred_svc.to_csv(\"submission_svc.csv\", index=False)"
   ]
  },
  {
   "cell_type": "code",
   "execution_count": 749,
   "metadata": {},
   "outputs": [],
   "source": [
    "# df_test_f_1.head()"
   ]
  },
  {
   "cell_type": "code",
   "execution_count": 750,
   "metadata": {},
   "outputs": [],
   "source": [
    "from sklearn.linear_model import LogisticRegression\n",
    "from sklearn.ensemble import RandomForestClassifier\n",
    "from sklearn.svm import LinearSVC\n",
    "from sklearn.model_selection import cross_val_score\n",
    "models = [\n",
    "    RandomForestClassifier(n_estimators=200, max_depth=3, random_state=0),\n",
    "    LinearSVC(),\n",
    "    MultinomialNB(),\n",
    "    LogisticRegression(random_state=0),\n",
    "]\n",
    "CV = 5\n",
    "cv_df = pd.DataFrame(index=range(CV * len(models)))\n",
    "entries = []\n",
    "for model in models:\n",
    "    model_name = model.__class__.__name__\n",
    "    accuracies = cross_val_score(model, X_train_tfidf, df.gender, scoring='accuracy', cv=CV)\n",
    "    for fold_idx, accuracy in enumerate(accuracies):\n",
    "        entries.append((model_name, fold_idx, accuracy))\n",
    "cv_df = pd.DataFrame(entries, columns=['model_name', 'fold_idx', 'accuracy'])"
   ]
  },
  {
   "cell_type": "code",
   "execution_count": 751,
   "metadata": {},
   "outputs": [
    {
     "data": {
      "text/plain": [
       "model_name\n",
       "LinearSVC                 0.680683\n",
       "LogisticRegression        0.736433\n",
       "MultinomialNB             0.718151\n",
       "RandomForestClassifier    0.741754\n",
       "Name: accuracy, dtype: float64"
      ]
     },
     "execution_count": 751,
     "metadata": {},
     "output_type": "execute_result"
    }
   ],
   "source": [
    "cv_df.groupby('model_name').accuracy.mean()"
   ]
  },
  {
   "cell_type": "code",
   "execution_count": 752,
   "metadata": {},
   "outputs": [],
   "source": [
    "rfc = RandomForestClassifier(n_estimators=200, max_depth=3, random_state=0)"
   ]
  },
  {
   "cell_type": "code",
   "execution_count": 753,
   "metadata": {},
   "outputs": [
    {
     "data": {
      "text/plain": [
       "RandomForestClassifier(bootstrap=True, class_weight=None, criterion='gini',\n",
       "            max_depth=3, max_features='auto', max_leaf_nodes=None,\n",
       "            min_impurity_decrease=0.0, min_impurity_split=None,\n",
       "            min_samples_leaf=1, min_samples_split=2,\n",
       "            min_weight_fraction_leaf=0.0, n_estimators=200, n_jobs=1,\n",
       "            oob_score=False, random_state=0, verbose=0, warm_start=False)"
      ]
     },
     "execution_count": 753,
     "metadata": {},
     "output_type": "execute_result"
    }
   ],
   "source": [
    "rfc.fit(X_train_tfidf, df.gender)"
   ]
  },
  {
   "cell_type": "code",
   "execution_count": 754,
   "metadata": {},
   "outputs": [],
   "source": [
    "y_pred_rfc = rfc.predict(count_vect.transform(df_test_f_1['title']))"
   ]
  },
  {
   "cell_type": "code",
   "execution_count": 755,
   "metadata": {},
   "outputs": [
    {
     "data": {
      "text/html": [
       "<div>\n",
       "<style scoped>\n",
       "    .dataframe tbody tr th:only-of-type {\n",
       "        vertical-align: middle;\n",
       "    }\n",
       "\n",
       "    .dataframe tbody tr th {\n",
       "        vertical-align: top;\n",
       "    }\n",
       "\n",
       "    .dataframe thead th {\n",
       "        text-align: right;\n",
       "    }\n",
       "</style>\n",
       "<table border=\"1\" class=\"dataframe\">\n",
       "  <thead>\n",
       "    <tr style=\"text-align: right;\">\n",
       "      <th></th>\n",
       "      <th>userid</th>\n",
       "      <th>url</th>\n",
       "      <th>brand</th>\n",
       "      <th>title</th>\n",
       "      <th>pred</th>\n",
       "      <th>pred_svc</th>\n",
       "    </tr>\n",
       "  </thead>\n",
       "  <tbody>\n",
       "    <tr>\n",
       "      <th>0</th>\n",
       "      <td>1521070</td>\n",
       "      <td>http://timesofindia.indiatimes.com/</td>\n",
       "      <td>TIMES OF INDIA</td>\n",
       "      <td>India News, Latest Sports, Bollywood, World,</td>\n",
       "      <td>1</td>\n",
       "      <td>0</td>\n",
       "    </tr>\n",
       "  </tbody>\n",
       "</table>\n",
       "</div>"
      ],
      "text/plain": [
       "    userid                                  url           brand  \\\n",
       "0  1521070  http://timesofindia.indiatimes.com/  TIMES OF INDIA   \n",
       "\n",
       "                                          title  pred  pred_svc  \n",
       "0  India News, Latest Sports, Bollywood, World,     1         0  "
      ]
     },
     "execution_count": 755,
     "metadata": {},
     "output_type": "execute_result"
    }
   ],
   "source": [
    "df_test_f_1.head(1)"
   ]
  },
  {
   "cell_type": "code",
   "execution_count": 756,
   "metadata": {},
   "outputs": [],
   "source": [
    "df_pred_rfc = df_test_f_1.copy()"
   ]
  },
  {
   "cell_type": "code",
   "execution_count": 758,
   "metadata": {},
   "outputs": [],
   "source": [
    "df_pred_rfc.drop(['url', 'brand', 'title', 'pred', 'pred_svc'], axis=1, inplace=True)"
   ]
  },
  {
   "cell_type": "code",
   "execution_count": 759,
   "metadata": {},
   "outputs": [
    {
     "data": {
      "text/html": [
       "<div>\n",
       "<style scoped>\n",
       "    .dataframe tbody tr th:only-of-type {\n",
       "        vertical-align: middle;\n",
       "    }\n",
       "\n",
       "    .dataframe tbody tr th {\n",
       "        vertical-align: top;\n",
       "    }\n",
       "\n",
       "    .dataframe thead th {\n",
       "        text-align: right;\n",
       "    }\n",
       "</style>\n",
       "<table border=\"1\" class=\"dataframe\">\n",
       "  <thead>\n",
       "    <tr style=\"text-align: right;\">\n",
       "      <th></th>\n",
       "      <th>userid</th>\n",
       "    </tr>\n",
       "  </thead>\n",
       "  <tbody>\n",
       "    <tr>\n",
       "      <th>0</th>\n",
       "      <td>1521070</td>\n",
       "    </tr>\n",
       "  </tbody>\n",
       "</table>\n",
       "</div>"
      ],
      "text/plain": [
       "    userid\n",
       "0  1521070"
      ]
     },
     "execution_count": 759,
     "metadata": {},
     "output_type": "execute_result"
    }
   ],
   "source": [
    "df_pred_rfc.head(1)"
   ]
  },
  {
   "cell_type": "code",
   "execution_count": 760,
   "metadata": {},
   "outputs": [],
   "source": [
    "df_pred_rfc['gender'] = y_pred_rfc"
   ]
  },
  {
   "cell_type": "code",
   "execution_count": 761,
   "metadata": {},
   "outputs": [
    {
     "data": {
      "text/html": [
       "<div>\n",
       "<style scoped>\n",
       "    .dataframe tbody tr th:only-of-type {\n",
       "        vertical-align: middle;\n",
       "    }\n",
       "\n",
       "    .dataframe tbody tr th {\n",
       "        vertical-align: top;\n",
       "    }\n",
       "\n",
       "    .dataframe thead th {\n",
       "        text-align: right;\n",
       "    }\n",
       "</style>\n",
       "<table border=\"1\" class=\"dataframe\">\n",
       "  <thead>\n",
       "    <tr style=\"text-align: right;\">\n",
       "      <th></th>\n",
       "      <th>userid</th>\n",
       "      <th>gender</th>\n",
       "    </tr>\n",
       "  </thead>\n",
       "  <tbody>\n",
       "    <tr>\n",
       "      <th>0</th>\n",
       "      <td>1521070</td>\n",
       "      <td>1</td>\n",
       "    </tr>\n",
       "  </tbody>\n",
       "</table>\n",
       "</div>"
      ],
      "text/plain": [
       "    userid  gender\n",
       "0  1521070       1"
      ]
     },
     "execution_count": 761,
     "metadata": {},
     "output_type": "execute_result"
    }
   ],
   "source": [
    "df_pred_rfc.head(1)"
   ]
  },
  {
   "cell_type": "code",
   "execution_count": 762,
   "metadata": {},
   "outputs": [],
   "source": [
    "df_pred_rfc['gender'] = df_pred_rfc['gender'].apply(num_to_gender)"
   ]
  },
  {
   "cell_type": "code",
   "execution_count": 763,
   "metadata": {},
   "outputs": [
    {
     "data": {
      "text/html": [
       "<div>\n",
       "<style scoped>\n",
       "    .dataframe tbody tr th:only-of-type {\n",
       "        vertical-align: middle;\n",
       "    }\n",
       "\n",
       "    .dataframe tbody tr th {\n",
       "        vertical-align: top;\n",
       "    }\n",
       "\n",
       "    .dataframe thead th {\n",
       "        text-align: right;\n",
       "    }\n",
       "</style>\n",
       "<table border=\"1\" class=\"dataframe\">\n",
       "  <thead>\n",
       "    <tr style=\"text-align: right;\">\n",
       "      <th></th>\n",
       "      <th>userid</th>\n",
       "      <th>gender</th>\n",
       "    </tr>\n",
       "  </thead>\n",
       "  <tbody>\n",
       "    <tr>\n",
       "      <th>0</th>\n",
       "      <td>1521070</td>\n",
       "      <td>M</td>\n",
       "    </tr>\n",
       "  </tbody>\n",
       "</table>\n",
       "</div>"
      ],
      "text/plain": [
       "    userid gender\n",
       "0  1521070      M"
      ]
     },
     "execution_count": 763,
     "metadata": {},
     "output_type": "execute_result"
    }
   ],
   "source": [
    "df_pred_rfc.head(1)"
   ]
  },
  {
   "cell_type": "code",
   "execution_count": 764,
   "metadata": {},
   "outputs": [
    {
     "data": {
      "text/plain": [
       "1347813"
      ]
     },
     "execution_count": 764,
     "metadata": {},
     "output_type": "execute_result"
    }
   ],
   "source": [
    "len(df_pred_rfc)"
   ]
  },
  {
   "cell_type": "code",
   "execution_count": 765,
   "metadata": {},
   "outputs": [],
   "source": [
    "df_pred_rfc.drop_duplicates(subset=['userid', 'gender'], inplace=True)"
   ]
  },
  {
   "cell_type": "code",
   "execution_count": 766,
   "metadata": {},
   "outputs": [
    {
     "data": {
      "text/plain": [
       "88384"
      ]
     },
     "execution_count": 766,
     "metadata": {},
     "output_type": "execute_result"
    }
   ],
   "source": [
    "len(df_pred_rfc)"
   ]
  },
  {
   "cell_type": "code",
   "execution_count": 768,
   "metadata": {},
   "outputs": [
    {
     "data": {
      "text/plain": [
       "M    88384\n",
       "Name: gender, dtype: int64"
      ]
     },
     "execution_count": 768,
     "metadata": {},
     "output_type": "execute_result"
    }
   ],
   "source": [
    "df_pred_rfc['gender'].value_counts()"
   ]
  },
  {
   "cell_type": "code",
   "execution_count": 767,
   "metadata": {},
   "outputs": [],
   "source": [
    "df_pred_rfc.to_csv('submission_rfc.csv', index=False)"
   ]
  },
  {
   "cell_type": "code",
   "execution_count": 769,
   "metadata": {},
   "outputs": [],
   "source": [
    "clf = MultinomialNB().fit(X_train_tfidf, df.gender)"
   ]
  },
  {
   "cell_type": "code",
   "execution_count": null,
   "metadata": {},
   "outputs": [],
   "source": [
    "y_pred_clf.value_counts()"
   ]
  },
  {
   "cell_type": "code",
   "execution_count": null,
   "metadata": {},
   "outputs": [],
   "source": []
  }
 ],
 "metadata": {
  "kernelspec": {
   "display_name": "Python 3",
   "language": "python",
   "name": "python3"
  },
  "language_info": {
   "codemirror_mode": {
    "name": "ipython",
    "version": 3
   },
   "file_extension": ".py",
   "mimetype": "text/x-python",
   "name": "python",
   "nbconvert_exporter": "python",
   "pygments_lexer": "ipython3",
   "version": "3.6.8"
  }
 },
 "nbformat": 4,
 "nbformat_minor": 2
}
